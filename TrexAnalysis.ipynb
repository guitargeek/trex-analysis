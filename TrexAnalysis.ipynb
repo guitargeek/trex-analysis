{
 "cells": [
  {
   "cell_type": "markdown",
   "metadata": {
    "slideshow": {
     "slide_type": "slide"
    }
   },
   "source": [
    "# Trex Data Analysis Tutorial\n",
    "__6. March 2020__"
   ]
  },
  {
   "cell_type": "markdown",
   "metadata": {
    "slideshow": {
     "slide_type": "slide"
    }
   },
   "source": [
    "## What you can learn today\n",
    "\n",
    "We will discuss some common problems in physics data analysis:\n",
    "* __parameter estimation__, examples:\n",
    "   * determine your detector resolution\n",
    "   * obtain calibration coefficients\n",
    "   \n",
    "* __hypothesis testing__, examples:\n",
    "   * is your assumption of a linearity valid?\n",
    "   * is this process compatible with an exponential law?\n",
    "   \n",
    "* __uncertainty calculation__\n",
    "   * always quote results with uncertainties, e.g. $E = 669 \\pm 5$ keV\n",
    "   * stimate both __statistic__ and __systematic__ uncertainty\n",
    "   \n",
    "* __Monte Carlo simulation__, for example:\n",
    "   * simulate response of photomultiplier tube\n",
    "   * obtain acceptance of detector with complicated geometry"
   ]
  },
  {
   "cell_type": "markdown",
   "metadata": {
    "slideshow": {
     "slide_type": "slide"
    }
   },
   "source": [
    "## Introduction\n",
    "\n",
    "* Examples in this presentation are based on the programming language __Python__ and libraries from it's ecosystem\n",
    "* Many alternatives exists, don't hesitate to explore them!\n",
    "  * __Programming languages__: C++, Julia, R, Matlab, Go, ...\n",
    "  * __Plotting and data analysis__: gnuplot, ROOT, ..\n",
    "* This is not an introduction to Python, it assumes you are a bit familiar with it\n",
    "* There are a lot of resources on the internet:\n",
    "  * Python website: <https://www.python.org>\n",
    "  * Python tutorials: <https://docs.python.org/2/tutorial/>\n",
    "  * Google $\\to$ <https://www.stackoverflow.com>"
   ]
  },
  {
   "cell_type": "markdown",
   "metadata": {
    "slideshow": {
     "slide_type": "slide"
    }
   },
   "source": [
    "## Software we use in data analysis around Python\n",
    "\n",
    "The Python ecosystem established itself __the standard__ for modern data analysis, of which you will use today:\n",
    "\n",
    "* the Python programming language\n",
    "* the NumPy library for handling numerical data and linear algebra\n",
    "* the SciPy library for scientific computing\n",
    "* matplotlib to easily make nice plots\n",
    "* the Jupyter Notebook to interactively work with Python\n",
    "  * this presentation is actually a notebook itselt, which you can find here\n",
    "\n",
    "More specific to High Energy Physics (HEP), there is also ROOT (developed by CERN), a modular scientific software toolkit. It is very useful when performance is key, since it can also be used in C++."
   ]
  },
  {
   "cell_type": "markdown",
   "metadata": {
    "slideshow": {
     "slide_type": "slide"
    }
   },
   "source": [
    "## Reminders about Python\n",
    "\n",
    "* Syntax is \"similar\" to English"
   ]
  },
  {
   "cell_type": "code",
   "execution_count": 3,
   "metadata": {},
   "outputs": [
    {
     "name": "stdout",
     "output_type": "stream",
     "text": [
      "salut tout le monde\n"
     ]
    }
   ],
   "source": [
    "print(\"salut tout le monde\")"
   ]
  },
  {
   "cell_type": "markdown",
   "metadata": {},
   "source": [
    "* No explicit types for variables"
   ]
  },
  {
   "cell_type": "code",
   "execution_count": 4,
   "metadata": {},
   "outputs": [
    {
     "name": "stdout",
     "output_type": "stream",
     "text": [
      "1 one\n"
     ]
    }
   ],
   "source": [
    "n = 1\n",
    "s = \"one\"\n",
    "print(n, s)"
   ]
  },
  {
   "cell_type": "markdown",
   "metadata": {
    "slideshow": {
     "slide_type": "slide"
    }
   },
   "source": [
    "* Blocks of code (if-else, for loops, ...) are denoted using indentation"
   ]
  },
  {
   "cell_type": "code",
   "execution_count": 5,
   "metadata": {},
   "outputs": [
    {
     "name": "stdout",
     "output_type": "stream",
     "text": [
      "5.5 is > 0\n",
      "-5.5 is <= 0\n"
     ]
    }
   ],
   "source": [
    "number1 = 5.5\n",
    "number2 = -5.5\n",
    "\n",
    "if number1 > 0:\n",
    "    print(number1, \"is > 0\")\n",
    "else:\n",
    "    print(number1, \"is <= 0\")\n",
    "    \n",
    "if number2 > 0:\n",
    "    print(number2, \"is > 0\")\n",
    "else:\n",
    "    print(number2, \"is <= 0\")"
   ]
  },
  {
   "cell_type": "markdown",
   "metadata": {
    "slideshow": {
     "slide_type": "slide"
    }
   },
   "source": [
    "* Lists can contain multiple, ordered, heterogeneous values"
   ]
  },
  {
   "cell_type": "code",
   "execution_count": 6,
   "metadata": {},
   "outputs": [
    {
     "name": "stdout",
     "output_type": "stream",
     "text": [
      "1\n",
      "2\n",
      "None\n",
      "4\n",
      "was guckst du\n"
     ]
    }
   ],
   "source": [
    "mylist = [1, 2, None, 4, \"was guckst du\"]\n",
    "for x in mylist:\n",
    "    print(x)"
   ]
  },
  {
   "cell_type": "markdown",
   "metadata": {
    "slideshow": {
     "slide_type": "slide"
    }
   },
   "source": [
    "* You can define functions and call them using positional or keyword arguments\n",
    "* you can also define [classes](https://docs.python.org/3.6/tutorial/classes.html)"
   ]
  },
  {
   "cell_type": "code",
   "execution_count": 7,
   "metadata": {},
   "outputs": [
    {
     "name": "stdout",
     "output_type": "stream",
     "text": [
      "2.0 2.0\n"
     ]
    }
   ],
   "source": [
    "def divide(num, den):\n",
    "    return num/den\n",
    "\n",
    "x1 = divide(10, 5)\n",
    "x2 = divide(num=10, den=5)\n",
    "\n",
    "print(x1, x2)"
   ]
  },
  {
   "cell_type": "markdown",
   "metadata": {
    "slideshow": {
     "slide_type": "slide"
    }
   },
   "source": [
    "* You can import libraries and use their functionalities:"
   ]
  },
  {
   "cell_type": "code",
   "execution_count": 8,
   "metadata": {
    "slideshow": {
     "slide_type": "-"
    }
   },
   "outputs": [],
   "source": [
    "import numpy as np\n",
    "import pandas as pd\n",
    "import scipy\n",
    "import matplotlib.pyplot as plt\n",
    "\n",
    "from scipy.optimize import curve_fit\n",
    "from numpy import matmul as mm\n",
    "from scipy.stats import chi2"
   ]
  },
  {
   "cell_type": "markdown",
   "metadata": {},
   "source": [
    "* In the Jupyter notebook, the return value of the last command in the cell is automatically printed"
   ]
  },
  {
   "cell_type": "code",
   "execution_count": 9,
   "metadata": {},
   "outputs": [
    {
     "data": {
      "text/plain": [
       "21"
      ]
     },
     "execution_count": 9,
     "metadata": {},
     "output_type": "execute_result"
    }
   ],
   "source": [
    "1 + 2 + 3 + 4 + 5 + 6"
   ]
  },
  {
   "cell_type": "markdown",
   "metadata": {
    "slideshow": {
     "slide_type": "slide"
    }
   },
   "source": [
    "## Pseudorandom numbers\n",
    "\n",
    "To generate __random data to try out our tools__, we will generate __pseudorandom numbers__.\n",
    "\n",
    "* number generated by mathematical formulae with statistical properties close to the ones of random numbers.\n",
    "* a good algorithm should not present a correlation between the generated numbers\n",
    "* generation of pseudorandom numbers is reporducible: you will get the same numbers if you start from the same seed\n",
    "\n",
    "_Example_: the __Linear Congruential Generator__ $x_{n+1} = a x_n + c$ mod $m$."
   ]
  },
  {
   "cell_type": "code",
   "execution_count": 10,
   "metadata": {},
   "outputs": [],
   "source": [
    "def linear_congruential(size, seed=1, a=7**5, c=0, m=2**31):\n",
    "    n = np.prod(size)\n",
    "    x = np.empty(n)\n",
    "    x[0] = seed\n",
    "    for i in range(1,n):\n",
    "        x[i] = (a*x[i-1] + c) % m\n",
    "    return x.reshape(size) / m"
   ]
  },
  {
   "cell_type": "markdown",
   "metadata": {
    "slideshow": {
     "slide_type": "slide"
    }
   },
   "source": [
    "With the wrong choice of $a, c$ and $m$, the __Linear Congruential Generator__ shows an obvious non-random pattern."
   ]
  },
  {
   "cell_type": "code",
   "execution_count": 11,
   "metadata": {
    "slideshow": {
     "slide_type": "-"
    }
   },
   "outputs": [],
   "source": [
    "x1 = linear_congruential((2,500), seed=1, a=7**5, c=0, m=2**31)\n",
    "x2 = linear_congruential((2,500), seed=1, a=13, c=0, m=31)"
   ]
  },
  {
   "cell_type": "code",
   "execution_count": 12,
   "metadata": {
    "slideshow": {
     "slide_type": "skip"
    }
   },
   "outputs": [],
   "source": [
    "def linear_congruential_plot(x1, x2):\n",
    "    f, (ax1, ax2) = plt.subplots(1, 2, figsize=(12,6))\n",
    "    ax1.scatter(x1[0], x1[1], s=2, color='k')\n",
    "    ax2.scatter(x2[0], x2[1], s=2, color='k')\n",
    "    ax1.set_xlim(0,1); ax1.set_ylim(0,1); ax2.set_xlim(0,1); ax2.set_ylim(0,1)\n",
    "    ax1.set_title(r'$a = 7^5$,   $c=0$,   $m=2^{31}$')\n",
    "    ax2.set_title(r'$a = 13$,   $c=0$,   $m=31$')\n",
    "    ax1.set_xlabel(r'$x_1^1$')\n",
    "    ax1.set_ylabel(r'$x_1^2$')\n",
    "    ax2.set_xlabel(r'$x_2^1$')\n",
    "    ax2.set_ylabel(r'$x_2^2$')\n",
    "    plt.show()"
   ]
  },
  {
   "cell_type": "code",
   "execution_count": 13,
   "metadata": {
    "slideshow": {
     "slide_type": "-"
    }
   },
   "outputs": [
    {
     "data": {
      "image/png": "[encoded data removed]",
      "text/plain": [
       "<Figure size 864x432 with 2 Axes>"
      ]
     },
     "metadata": {
      "needs_background": "light"
     },
     "output_type": "display_data"
    }
   ],
   "source": [
    "linear_congruential_plot(x1, x2)"
   ]
  },
  {
   "cell_type": "markdown",
   "metadata": {
    "slideshow": {
     "slide_type": "slide"
    }
   },
   "source": [
    "## Pseudorandom numbers in Python\n",
    "\n",
    "Python and numpy use the [Mersenne Twister](https://en.wikipedia.org/wiki/Mersenne_Twister) algorithm for pseudorandom number generation. We can set the seed for numpy with `np.random.seed()` to get reproducible results and use the [numpy.random](https://docs.scipy.org/doc/numpy/reference/routines.random.html) module to generate arrays of random numbers according to many different probability density functions, for example a __uniform distribution__:"
   ]
  },
  {
   "cell_type": "code",
   "execution_count": 14,
   "metadata": {},
   "outputs": [
    {
     "data": {
      "image/png": "[encoded data removed]",
      "text/plain": [
       "<Figure size 432x288 with 1 Axes>"
      ]
     },
     "metadata": {
      "needs_background": "light"
     },
     "output_type": "display_data"
    }
   ],
   "source": [
    "np.random.seed(42)\n",
    "\n",
    "a = np.random.uniform(size=10000)\n",
    "plt.hist(a, bins=200)\n",
    "plt.show()"
   ]
  },
  {
   "cell_type": "markdown",
   "metadata": {
    "slideshow": {
     "slide_type": "slide"
    }
   },
   "source": [
    "## Histograms\n",
    "\n",
    "A __histogram__ is a representation of the distribution of numerical data. The [numpy.histogram](https://docs.scipy.org/doc/numpy/reference/generated/numpy.histogram.html) function returns you the number of counts in each __bin__, with the bins being defined by the __bin edges__ you pass as a second argument."
   ]
  },
  {
   "cell_type": "code",
   "execution_count": 15,
   "metadata": {},
   "outputs": [
    {
     "data": {
      "text/plain": [
       "(array([0, 0, 0, 0, 0, 0, 0, 0, 1, 0, 1, 2, 0, 1, 0, 3, 1, 0, 1, 0]),\n",
       " array([-6. , -5.4, -4.8, -4.2, -3.6, -3. , -2.4, -1.8, -1.2, -0.6,  0. ,\n",
       "         0.6,  1.2,  1.8,  2.4,  3. ,  3.6,  4.2,  4.8,  5.4,  6. ]))"
      ]
     },
     "execution_count": 15,
     "metadata": {},
     "output_type": "execute_result"
    }
   ],
   "source": [
    "data = [1, 2, 3, 3, 3, 5, 1, 0, -1, 4]\n",
    "bins = np.linspace(-6, 6, 21)\n",
    "\n",
    "np.histogram(data, bins)"
   ]
  },
  {
   "cell_type": "markdown",
   "metadata": {},
   "source": [
    "The `numpy.histogram` function returns you:\n",
    "* the number of counts in each bin\n",
    "* the bin edges (redundant information here since we already specified them)"
   ]
  },
  {
   "cell_type": "markdown",
   "metadata": {
    "slideshow": {
     "slide_type": "slide"
    }
   },
   "source": [
    "You can also fill histograms with random values, here for example according to a __normal distribution__:"
   ]
  },
  {
   "cell_type": "code",
   "execution_count": 16,
   "metadata": {},
   "outputs": [
    {
     "data": {
      "text/plain": [
       "(array([  1,   2,  12,  21,  28,  47,  66,  82, 112, 112, 122, 101,  96,\n",
       "         77,  43,  31,  20,  14,   7,   1]),\n",
       " array([-6. , -5.4, -4.8, -4.2, -3.6, -3. , -2.4, -1.8, -1.2, -0.6,  0. ,\n",
       "         0.6,  1.2,  1.8,  2.4,  3. ,  3.6,  4.2,  4.8,  5.4,  6. ]))"
      ]
     },
     "execution_count": 16,
     "metadata": {},
     "output_type": "execute_result"
    }
   ],
   "source": [
    "a = np.random.normal(loc=0.0, scale=2.0, size=1000)\n",
    "np.histogram(a, bins)"
   ]
  },
  {
   "cell_type": "markdown",
   "metadata": {
    "slideshow": {
     "slide_type": "slide"
    }
   },
   "source": [
    "It's also very convenient to plot histograms directly with the [matplotlib.pyplot.hist](https://matplotlib.org/api/_as_gen/matplotlib.pyplot.hist.html) function, which uses the same interface:"
   ]
  },
  {
   "cell_type": "code",
   "execution_count": 17,
   "metadata": {},
   "outputs": [
    {
     "data": {
      "image/png": "[encoded data removed]",
      "text/plain": [
       "<Figure size 432x288 with 1 Axes>"
      ]
     },
     "metadata": {
      "needs_background": "light"
     },
     "output_type": "display_data"
    }
   ],
   "source": [
    "a = np.random.normal(loc=0.0, scale=2.0, size=1000)\n",
    "\n",
    "plt.hist(a, bins)\n",
    "plt.show()"
   ]
  },
  {
   "cell_type": "markdown",
   "metadata": {
    "slideshow": {
     "slide_type": "slide"
    }
   },
   "source": [
    "However, the  `numpy` function is still very useful in case you want to do something with the counts before plotting, them, for example to calculate the __Poissonian uncertainy__:"
   ]
  },
  {
   "cell_type": "code",
   "execution_count": 18,
   "metadata": {},
   "outputs": [
    {
     "data": {
      "image/png": "[encoded data removed]",
      "text/plain": [
       "<Figure size 432x288 with 1 Axes>"
      ]
     },
     "metadata": {
      "needs_background": "light"
     },
     "output_type": "display_data"
    }
   ],
   "source": [
    "a = np.random.normal(loc=0.0, scale=2.0, size=1000)\n",
    "\n",
    "counts, _ = np.histogram(a, bins)\n",
    "uncert = np.sqrt(counts)\n",
    "bincenters = (bins[1:] + bins[:-1])/2.\n",
    "\n",
    "plt.errorbar(bincenters, counts, yerr=uncert, fmt='o', color='k')\n",
    "plt.show()"
   ]
  },
  {
   "cell_type": "markdown",
   "metadata": {
    "slideshow": {
     "slide_type": "slide"
    }
   },
   "source": [
    "Having the numpy array with the counts and uncertainties also helps you when you want to __fit your data__ (more on fitting later):"
   ]
  },
  {
   "cell_type": "code",
   "execution_count": 19,
   "metadata": {},
   "outputs": [],
   "source": [
    "def gaus(x, mu, sigma, N):\n",
    "    return N * 1./(np.sqrt(2*np.pi)*sigma) * np.exp(-(x - mu)**2/(2*sigma**2))\n",
    "\n",
    "popt, pcov = curve_fit(gaus, bincenters, counts,\n",
    "                       sigma=uncert, p0=[1., 1., 1000.], absolute_sigma=True)"
   ]
  },
  {
   "cell_type": "code",
   "execution_count": 20,
   "metadata": {},
   "outputs": [
    {
     "data": {
      "image/png": "[encoded data removed]",
      "text/plain": [
       "<Figure size 432x288 with 1 Axes>"
      ]
     },
     "metadata": {
      "needs_background": "light"
     },
     "output_type": "display_data"
    }
   ],
   "source": [
    "plt.plot(bincenters, gaus(bincenters, *popt), \"r\")\n",
    "plt.errorbar(bincenters, counts, yerr=uncert, fmt='o', color='k')\n",
    "plt.show()"
   ]
  },
  {
   "cell_type": "markdown",
   "metadata": {
    "slideshow": {
     "slide_type": "slide"
    }
   },
   "source": [
    "## Fitting data"
   ]
  },
  {
   "cell_type": "markdown",
   "metadata": {},
   "source": [
    "Let's create some toy data which is distributed according to $121 /\\sqrt{2x}$, plus some Gaussian noise."
   ]
  },
  {
   "cell_type": "code",
   "execution_count": 21,
   "metadata": {
    "slideshow": {
     "slide_type": "-"
    }
   },
   "outputs": [],
   "source": [
    "def f_true(x):\n",
    "    return 121./np.sqrt(x) + 40."
   ]
  },
  {
   "cell_type": "code",
   "execution_count": 22,
   "metadata": {},
   "outputs": [],
   "source": [
    "def f_noise(x):\n",
    "    return np.sqrt(f_true(x)) * np.random.normal(loc=0.0, scale=1.0, size=x.shape)"
   ]
  },
  {
   "cell_type": "code",
   "execution_count": 23,
   "metadata": {},
   "outputs": [],
   "source": [
    "def f_measurement(x):\n",
    "    return f_true(x) + f_noise(x)"
   ]
  },
  {
   "cell_type": "code",
   "execution_count": 24,
   "metadata": {},
   "outputs": [],
   "source": [
    "x = np.linspace(1., 10., 20)\n",
    "y = f_measurement(x)\n",
    "yerr = np.sqrt(y)"
   ]
  },
  {
   "cell_type": "code",
   "execution_count": 25,
   "metadata": {
    "slideshow": {
     "slide_type": "skip"
    }
   },
   "outputs": [],
   "source": [
    "def data_and_true_function_plot(x, y, yerr, f_true):\n",
    "    xx = np.linspace(1.,10.,200)\n",
    "    plt.plot(xx, f_true(xx), label=\"true distribution\")\n",
    "    plt.errorbar(x, y, yerr=yerr, fmt='o', color='k', label=\"data\")\n",
    "    plt.legend(loc=\"upper right\")\n",
    "    plt.xlabel(\"Amplitude\")\n",
    "    plt.ylabel(\"Counts\")"
   ]
  },
  {
   "cell_type": "code",
   "execution_count": 26,
   "metadata": {
    "slideshow": {
     "slide_type": "skip"
    }
   },
   "outputs": [],
   "source": [
    "def data_plot(x, y, yerr):\n",
    "    plt.errorbar(x, y, yerr=yerr, fmt='o', color='k', label=\"data\")\n",
    "    plt.legend(loc=\"upper right\")\n",
    "    plt.xlabel(\"Amplitude\")\n",
    "    plt.ylabel(\"Counts\")"
   ]
  },
  {
   "cell_type": "markdown",
   "metadata": {
    "slideshow": {
     "slide_type": "slide"
    }
   },
   "source": [
    "This is a visualization of our \"measured\" data and the underlying function:"
   ]
  },
  {
   "cell_type": "code",
   "execution_count": 27,
   "metadata": {},
   "outputs": [
    {
     "data": {
      "image/png": "[encoded data removed]",
      "text/plain": [
       "<Figure size 432x288 with 1 Axes>"
      ]
     },
     "metadata": {
      "needs_background": "light"
     },
     "output_type": "display_data"
    }
   ],
   "source": [
    "data_and_true_function_plot(x, y, yerr, f_true)\n",
    "plt.show()"
   ]
  },
  {
   "cell_type": "markdown",
   "metadata": {
    "slideshow": {
     "slide_type": "slide"
    }
   },
   "source": [
    "In a real experiment, you find youself rather in the following situation:"
   ]
  },
  {
   "cell_type": "code",
   "execution_count": 28,
   "metadata": {
    "slideshow": {
     "slide_type": "-"
    }
   },
   "outputs": [
    {
     "data": {
      "image/png": "[encoded data removed]",
      "text/plain": [
       "<Figure size 432x288 with 1 Axes>"
      ]
     },
     "metadata": {
      "needs_background": "light"
     },
     "output_type": "display_data"
    }
   ],
   "source": [
    "data_plot(x, y, yerr)\n",
    "plt.show()"
   ]
  },
  {
   "cell_type": "markdown",
   "metadata": {},
   "source": [
    "You don't know the underlying function! But you want to fit it in order to estimate the parameters $a$ and $b$ in the model $a/\\sqrt{bx}$.\n",
    "\n",
    "How is this done?"
   ]
  },
  {
   "cell_type": "markdown",
   "metadata": {
    "slideshow": {
     "slide_type": "slide"
    }
   },
   "source": [
    "### The Likelihood\n",
    "\n",
    "The fit should give you the model for which the observed data is the most likely:\n",
    "\n",
    "$$\\text{best model} = \\text{argmax}_\\text{model}~\\mathcal{L}(\\text{model}),$$\n",
    "where\n",
    "$$\\mathcal{L}(\\text{model}) = P(\\text{data}|\\text{model}).$$\n",
    "\n",
    "We often denote a model as an ensemble of model parameters $\\theta$, and the parameters of the best model as $\\hat\\theta$:\n",
    "\n",
    "$$\\hat\\theta = \\text{argmax}_\\theta~\\mathcal{L}(\\theta)$$"
   ]
  },
  {
   "cell_type": "markdown",
   "metadata": {
    "slideshow": {
     "slide_type": "slide"
    }
   },
   "source": [
    "### Fitting with linear least squares\n",
    "\n",
    "In the case of a __linear model__ $f(x) = \\theta_1x + \\theta_0$ where the data fluctuates with the measured uncertainties $\\sigma_i$ according to a normal distribution:\n",
    "\n",
    "$$\\mathcal{L}(\\theta) = \\prod_i \\frac{1}{\\sqrt{2\\pi\\sigma_i}} \\exp\\left(\\frac{(y_i - \\theta_1 x_i + \\theta_0)^2}{2\\sigma_i^2}\\right).$$\n",
    "\n",
    "We omitted from now on the normalizations of the Gaussians as they have no effect on the position of the minimum $\\hat\\theta$.\n",
    "\n",
    "__Note:__ when we talk about a __linear model__, we mean linear in the parameters $\\vec\\theta$, not the observed $\\vec x$ or $\\vec y$! For example, a quadratic model $f(x) = \\theta_2x*2 + \\theta_1x + \\theta_0$ is also linear in that sense."
   ]
  },
  {
   "cell_type": "markdown",
   "metadata": {
    "slideshow": {
     "slide_type": "slide"
    }
   },
   "source": [
    "Maximizing $\\mathcal{L}$ is equivalent to minimizing $-2\\log\\mathcal{L}$:\n",
    "\n",
    "$$-2\\log\\mathcal{L}(\\vec\\theta) = -2\\log\\left(\\prod_i \\exp\\left(\\frac{\\left(y_i - \\theta_1 x_i + \\theta_0\\right)^2}{2\\sigma_i^2}\\right)\\right) + C = \\sum_i \\frac{(y_i - \\theta_1 x_i + \\theta_0)^2}{\\sigma_i^2} + C$$\n",
    "\n",
    "The constant $C$ would be the term from the normalizations, which we can ignore from now. As an exercise, you can find the best fit values $\\theta_1$ and $\\theta_2$ analytically.\n",
    "\n",
    "Here, we will recognize the problem as a __weighted linear least squares problem__ and tackle it with linear algebra."
   ]
  },
  {
   "cell_type": "markdown",
   "metadata": {
    "slideshow": {
     "slide_type": "slide"
    }
   },
   "source": [
    "Let us express the problem in matrix notation. The (weighted) least squares are often denoted with $\\chi^2$, or \"chi-square\":\n",
    "\n",
    "$$ \\vec{\\hat\\theta} = \\text{argmin}_\\vec\\theta~(\\vec y - X\\vec\\theta)^TV^{-1}(\\vec y - X\\vec\\theta) = \\text{argmin}_\\vec\\theta~\\chi^2(\\vec\\theta).$$\n",
    "\n",
    "The matrix $V$ is a so called __covariance matrix__, which generalizes the notion of variance to multiple dimensions. I our example, $V$ is diagonal because our individual measurements are not correlated:\n",
    "\n",
    "$$\n",
    "V = \\begin{pmatrix} \n",
    "    \\sigma_{1}^2 & 0 & \\dots \\\\\n",
    "    \\vdots & \\ddots & \\\\\n",
    "    0 &        & \\sigma_n ^2\n",
    "    \\end{pmatrix}\n",
    "$$"
   ]
  },
  {
   "cell_type": "code",
   "execution_count": 29,
   "metadata": {
    "slideshow": {
     "slide_type": "-"
    }
   },
   "outputs": [],
   "source": [
    "V = np.diag(yerr**2)"
   ]
  },
  {
   "cell_type": "markdown",
   "metadata": {
    "slideshow": {
     "slide_type": "slide"
    }
   },
   "source": [
    "Furthermore, we \"extend\" the vector $\\vec x$ to a matrix $X$, which has one additional column filled with ones to translate our problem of a linear fit __with offset__ to matrix notation:\n",
    "\n",
    "$$X = \\begin{pmatrix}\n",
    "      1 & x_1 \\\\\n",
    "      \\vdots & \\vdots \\\\\n",
    "      1 & x_n 1\n",
    "      \\end{pmatrix}.\n",
    "$$"
   ]
  },
  {
   "cell_type": "code",
   "execution_count": 30,
   "metadata": {},
   "outputs": [],
   "source": [
    "X = np.vstack([np.ones_like(x), x]).T"
   ]
  },
  {
   "cell_type": "markdown",
   "metadata": {},
   "source": [
    "The vectors $\\vec y$ and $\\vec \\theta$ remain the measured values and the vector of model parameters $\\vec\\theta = \\begin{pmatrix}\\theta_0 & \\theta_1 \\end{pmatrix}$ respectively."
   ]
  },
  {
   "cell_type": "markdown",
   "metadata": {
    "slideshow": {
     "slide_type": "slide"
    }
   },
   "source": [
    "We can now find $\\vec{\\hat\\theta}$ analytically as the solution of:\n",
    "\n",
    "$$X^TV^{-1}X\\vec{\\hat\\theta} = X^TV^{-1}\\vec{y},$$\n",
    "\n",
    "$$A\\vec{\\hat\\theta} = B\\vec{y}.$$\n",
    "\n",
    "We could bring $A$ on the right side by inverting it, but solving a linear equation directly is numerically more stable than inversion and multiplication:"
   ]
  },
  {
   "cell_type": "code",
   "execution_count": 31,
   "metadata": {},
   "outputs": [],
   "source": [
    "V_inv = np.linalg.inv(V)\n",
    "A = mm(X.T, mm(V_inv, X)) # we imported numpy.matmul as mm\n",
    "B = mm(X.T, V_inv)\n",
    "popt = np.linalg.solve(A, mm(B, y))"
   ]
  },
  {
   "cell_type": "markdown",
   "metadata": {
    "slideshow": {
     "slide_type": "slide"
    }
   },
   "source": [
    "Using error propagation, we can find the __covariance matrix of the model parameters__ as folllows:\n",
    "\n",
    "$$U = (A^{-1}B)V(A^{-1}B)^T = (X^TV^{-1}X)^{-1}.$$"
   ]
  },
  {
   "cell_type": "code",
   "execution_count": 32,
   "metadata": {},
   "outputs": [],
   "source": [
    "pcov = np.linalg.inv(mm(X.T, mm(V_inv, X)))"
   ]
  },
  {
   "cell_type": "markdown",
   "metadata": {},
   "source": [
    "You have now see the __linear least squares fit__ and got your first fit result:"
   ]
  },
  {
   "cell_type": "code",
   "execution_count": 33,
   "metadata": {
    "slideshow": {
     "slide_type": "-"
    }
   },
   "outputs": [
    {
     "name": "stdout",
     "output_type": "stream",
     "text": [
      "[126.20477612  -5.93012538]\n",
      "\n",
      "[[27.51246272 -3.8549498 ]\n",
      " [-3.8549498   0.64698973]]\n"
     ]
    }
   ],
   "source": [
    "print(popt)\n",
    "print(\"\")\n",
    "print(pcov)"
   ]
  },
  {
   "cell_type": "markdown",
   "metadata": {},
   "source": [
    "As expected, the covariance matrix is symmetric and positive semidefinite."
   ]
  },
  {
   "cell_type": "markdown",
   "metadata": {
    "slideshow": {
     "slide_type": "slide"
    }
   },
   "source": [
    "Remember that the diagonal elements of the covariance matrix are the __variances of the parameters__, so we just extract the square root of the diagonal to get the uncertainties on the fit paramteres:"
   ]
  },
  {
   "cell_type": "code",
   "execution_count": 34,
   "metadata": {},
   "outputs": [
    {
     "name": "stdout",
     "output_type": "stream",
     "text": [
      "theta_0 is found to be 126.2 ± 5.2.\n",
      "theta_1 is found to be -5.93 ± 0.80.\n"
     ]
    }
   ],
   "source": [
    "puncert = np.sqrt(np.diag(pcov))\n",
    "print(f\"theta_0 is found to be {popt[0]:.1f} ± {puncert[0]:.1f}.\")\n",
    "print(f\"theta_1 is found to be {popt[1]:.2f} ± {puncert[1]:.2f}.\")"
   ]
  },
  {
   "cell_type": "markdown",
   "metadata": {
    "slideshow": {
     "slide_type": "slide"
    }
   },
   "source": [
    "As we could already anticipate, the linear fit is not adequate for this example data, so we still have to discuss two questions:\n",
    "* How can we test the goodness of a fit?\n",
    "* How can we perform non-linear fits?"
   ]
  },
  {
   "cell_type": "code",
   "execution_count": 35,
   "metadata": {},
   "outputs": [
    {
     "data": {
      "image/png": "[encoded data removed]",
      "text/plain": [
       "<Figure size 432x288 with 1 Axes>"
      ]
     },
     "metadata": {
      "needs_background": "light"
     },
     "output_type": "display_data"
    }
   ],
   "source": [
    "data_plot(x,y, yerr)\n",
    "plt.plot(x, np.matmul(X, popt), label=\"linear fit\")\n",
    "plt.legend(loc=\"upper right\")\n",
    "plt.show()"
   ]
  },
  {
   "cell_type": "markdown",
   "metadata": {
    "slideshow": {
     "slide_type": "slide"
    }
   },
   "source": [
    "## Goodness of fit with the Reduced Chi-squared Test\n",
    "\n",
    "There are many ways to quantify the [goodness of a fit](https://en.wikipedia.org/wiki/Goodness_of_fit). We will look at the __reduced chi-squared test__, which is widely used in HEP. It is actually so common that it is automatically performed when you perform fits in ROOT.\n",
    "\n",
    "Remember the sum of squares from the previous part, not in matrix notation this time:\n",
    "$$\\chi^2 = \\sum_i \\frac{(y_i - f(x_i))^2}{\\sigma_i^2}.$$\n",
    "\n",
    "The sum of squares will be distributed according to a [chi-squared distribution](https://en.wikipedia.org/wiki/Chi-squared_distribution) $\\chi^2_k$ if the following is true:\n",
    "* your model $f(x)$ is correct\n",
    "* your Gaussian uncertainties on the data $\\vec{y}$ are correct\n",
    "\n",
    "The degrees of freedom $k$ is the __number of data points minus the number of model parameters__."
   ]
  },
  {
   "cell_type": "markdown",
   "metadata": {
    "slideshow": {
     "slide_type": "slide"
    }
   },
   "source": [
    "The probability desity function for the $\\chi^2$ distribution for different values of $k$:"
   ]
  },
  {
   "cell_type": "code",
   "execution_count": 36,
   "metadata": {},
   "outputs": [
    {
     "data": {
      "image/png": "[encoded data removed]",
      "text/plain": [
       "<Figure size 432x288 with 1 Axes>"
      ]
     },
     "metadata": {
      "needs_background": "light"
     },
     "output_type": "display_data"
    }
   ],
   "source": [
    "c = np.linspace(0, 50, 200)\n",
    "for k in [3, 10, 18, 26]:\n",
    "    plt.plot(c, chi2.pdf(c, k), label=f\"k = {k}\")\n",
    "plt.legend(loc=\"upper right\")\n",
    "plt.show()"
   ]
  },
  {
   "cell_type": "markdown",
   "metadata": {
    "slideshow": {
     "slide_type": "slide"
    }
   },
   "source": [
    "In our case, we have 20 data points and 2 model parameter for the linear fit, resulting in 18 degrees of freedom. The __mode__ of the $\\chi^2_k$ distribution for $k > 2$ is $k$, so we expect the sum of squared residuals to be around 18 (or in other words, the sum of squares divided by $k$ should be around one).\n",
    "\n",
    "Let us calculate the reduced sum of squares for our linear fit:"
   ]
  },
  {
   "cell_type": "code",
   "execution_count": 37,
   "metadata": {},
   "outputs": [
    {
     "name": "stdout",
     "output_type": "stream",
     "text": [
      "chi-squared over NDF: 1.1221\n"
     ]
    }
   ],
   "source": [
    "c2 = np.sum((np.matmul(X, popt) - y)**2/yerr**2)\n",
    "print(f\"chi-squared over NDF: {c2/18:.4f}\")"
   ]
  },
  {
   "cell_type": "markdown",
   "metadata": {
    "slideshow": {
     "slide_type": "slide"
    }
   },
   "source": [
    "Using the $\\chi^2$ distribution, we can calculate the __p-value__:\n",
    "* probability to get this $\\chi^2$ or worse if the model would be correct\n",
    "\n",
    "We use for this the \"survival function\" of the $\\chi^2$ distribution (one minus the cumulative density function):"
   ]
  },
  {
   "cell_type": "code",
   "execution_count": 38,
   "metadata": {},
   "outputs": [
    {
     "name": "stdout",
     "output_type": "stream",
     "text": [
      "p-value: 0.3218\n"
     ]
    }
   ],
   "source": [
    "print(f\"p-value: {chi2.sf(c2, 18):.4f}\")"
   ]
  },
  {
   "cell_type": "markdown",
   "metadata": {},
   "source": [
    "This probability is actually __not large enough to definitely reject__ our hypeothesis of a $f(x) = \\theta_1 x + \\theta_0$ function!"
   ]
  },
  {
   "cell_type": "markdown",
   "metadata": {
    "slideshow": {
     "slide_type": "slide"
    }
   },
   "source": [
    "## Nonlinear least squares fit"
   ]
  },
  {
   "cell_type": "markdown",
   "metadata": {},
   "source": [
    "In the general case of a model $f(x)$ which does not depend linearly on the model parameters.\n",
    "* Least-squares solution can't be found analytically\n",
    "* Least-squared solution has to be found by iterative minimization algorithm\n",
    "\n",
    "Two basic minimization algorithms are the [Gauss-Newton algorithm](https://en.wikipedia.org/wiki/Gauss%E2%80%93Newton_algorithm) and [Gradient descent](https://en.wikipedia.org/wiki/Gradient_descent).\n",
    "\n",
    "The [Levenberg–Marquardt algorithm](https://en.wikipedia.org/wiki/Levenberg%E2%80%93Marquardt_algorithm) implements a mixture between the previously mentions adgorithms for better convergence, and is implemented in the [scipy.optimize.curve_fit](https://docs.scipy.org/doc/scipy/reference/generated/scipy.optimize.curve_fit.html) function."
   ]
  },
  {
   "cell_type": "markdown",
   "metadata": {
    "slideshow": {
     "slide_type": "slide"
    }
   },
   "source": [
    "The return values of `curve_fit` should be familiar now: the optimal parameters and covariance matrix.\n",
    "\n",
    "__Don't forget to set__ `absolute_sigma=True` __if your uncertainties are given in absolute values!__"
   ]
  },
  {
   "cell_type": "code",
   "execution_count": 39,
   "metadata": {
    "slideshow": {
     "slide_type": "-"
    }
   },
   "outputs": [],
   "source": [
    "def f_model(x, a, b):\n",
    "    return a/np.sqrt(x) + b\n",
    "\n",
    "popt, pcov = curve_fit(f_model, x, y,\n",
    "                       sigma=yerr, p0=[100., 1.], absolute_sigma=True)"
   ]
  },
  {
   "cell_type": "markdown",
   "metadata": {},
   "source": [
    "We get good estimates for the parameters of our underlying function $f(x) = \\frac{a}{\\sqrt{x}} + b$:"
   ]
  },
  {
   "cell_type": "code",
   "execution_count": 40,
   "metadata": {},
   "outputs": [
    {
     "name": "stdout",
     "output_type": "stream",
     "text": [
      "a is found to be 109.5 ± 13.5 (true value is 121)\n",
      "b is found to be 40.45 ± 6.57 (true value is 40)\n"
     ]
    }
   ],
   "source": [
    "puncert = np.sqrt(np.diag(pcov))\n",
    "print(f\"a is found to be {popt[0]:.1f} ± {puncert[0]:.1f} (true value is 121)\")\n",
    "print(f\"b is found to be {popt[1]:.2f} ± {puncert[1]:.2f} (true value is 40)\")"
   ]
  },
  {
   "cell_type": "markdown",
   "metadata": {
    "slideshow": {
     "slide_type": "slide"
    }
   },
   "source": [
    "Since we now chose the right model, it will fit the data well and give a $\\chi^2/k$ close to one and a p-value which is not too small."
   ]
  },
  {
   "cell_type": "code",
   "execution_count": 41,
   "metadata": {},
   "outputs": [
    {
     "data": {
      "image/png": "[encoded data removed]",
      "text/plain": [
       "<Figure size 432x288 with 1 Axes>"
      ]
     },
     "metadata": {
      "needs_background": "light"
     },
     "output_type": "display_data"
    }
   ],
   "source": [
    "data_and_true_function_plot(x,y, yerr, f_true)\n",
    "plt.plot(x, f_model(x, *popt), label=\"fit\"); plt.legend(loc=\"upper right\")\n",
    "plt.show()"
   ]
  },
  {
   "cell_type": "code",
   "execution_count": 42,
   "metadata": {},
   "outputs": [
    {
     "name": "stdout",
     "output_type": "stream",
     "text": [
      "chi-squared over NDF: 0.4800\n",
      "p-value: 0.9675\n"
     ]
    }
   ],
   "source": [
    "c2 = np.sum((f_model(x, *popt) - y)**2/yerr**2)\n",
    "print(f\"chi-squared over NDF: {c2/18:.4f}\")\n",
    "print(f\"p-value: {chi2.sf(c2, 18):.4f}\")"
   ]
  },
  {
   "cell_type": "markdown",
   "metadata": {
    "slideshow": {
     "slide_type": "slide"
    }
   },
   "source": [
    "# Detector simulation with Monte Carlo methods\n",
    "\n",
    "Assume we have three planar detectors on top of each other, detecting cosmic muons:\n",
    "* figure out which fraction of incoming muons hitting the first detector also hit the second one, or all three detectors\n",
    "* assume the muons arrive from all directions isotropically (uniform in $\\cos(\\theta)$ and $\\phi$)\n",
    "\n",
    "We will solve this problem with a __Monte Carlo simulation__, and introduce:\n",
    "* the pandas library\n",
    "* Python classes and functions"
   ]
  },
  {
   "cell_type": "markdown",
   "metadata": {
    "slideshow": {
     "slide_type": "slide"
    }
   },
   "source": [
    "We create a simple class which should represent a rectangular detector in the $x,y$ plane, and instantiate three of them:"
   ]
  },
  {
   "cell_type": "code",
   "execution_count": 43,
   "metadata": {},
   "outputs": [],
   "source": [
    "class Detector(object):\n",
    "    def __init__(self, xmin, xmax, ymin, ymax, z):\n",
    "        self.xmin = xmin\n",
    "        self.xmax = xmax\n",
    "        self.ymin = ymin\n",
    "        self.ymax = ymax\n",
    "        self.z = z\n",
    "    \n",
    "det0 = Detector(xmin=0., xmax=20., ymin=0., ymax=30., z=0.)\n",
    "det1 = Detector(xmin=0., xmax=20., ymin=0., ymax=30., z=10.)\n",
    "det2 = Detector(xmin=0., xmax=20., ymin=0., ymax=30., z=20.)"
   ]
  },
  {
   "cell_type": "markdown",
   "metadata": {
    "slideshow": {
     "slide_type": "slide"
    }
   },
   "source": [
    "We create a __pandas DataFrame__, filled with the information of random trajectories with only one simple requirement: they cross the first detector."
   ]
  },
  {
   "cell_type": "code",
   "execution_count": 44,
   "metadata": {},
   "outputs": [],
   "source": [
    "n = 1000000\n",
    "trajectories = pd.DataFrame(data={\n",
    "    \"x0\"       : np.random.uniform(det0.xmin, det0.xmax, size=n),\n",
    "    \"y0\"       : np.random.uniform(det0.ymin, det0.ymax, size=n),\n",
    "    \"z0\"       : det0.z * np.ones(n),\n",
    "    \"costheta\" : np.random.uniform(-1., 1., size=n),\n",
    "    \"phi\"      : np.random.uniform(0., 2*np.pi, size=n),\n",
    "})\n",
    "trajectories[\"theta\"] = np.arccos(trajectories[\"costheta\"])"
   ]
  },
  {
   "cell_type": "markdown",
   "metadata": {},
   "source": [
    "Data frames let you store multiple arrays of different types in a \"spreadsheet-like\" manner, let's look at the first three elements:"
   ]
  },
  {
   "cell_type": "code",
   "execution_count": 45,
   "metadata": {},
   "outputs": [
    {
     "data": {
      "text/html": [
       "<div>\n",
       "<style scoped>\n",
       "    .dataframe tbody tr th:only-of-type {\n",
       "        vertical-align: middle;\n",
       "    }\n",
       "\n",
       "    .dataframe tbody tr th {\n",
       "        vertical-align: top;\n",
       "    }\n",
       "\n",
       "    .dataframe thead th {\n",
       "        text-align: right;\n",
       "    }\n",
       "</style>\n",
       "<table border=\"1\" class=\"dataframe\">\n",
       "  <thead>\n",
       "    <tr style=\"text-align: right;\">\n",
       "      <th></th>\n",
       "      <th>x0</th>\n",
       "      <th>y0</th>\n",
       "      <th>z0</th>\n",
       "      <th>costheta</th>\n",
       "      <th>phi</th>\n",
       "      <th>theta</th>\n",
       "    </tr>\n",
       "  </thead>\n",
       "  <tbody>\n",
       "    <tr>\n",
       "      <th>0</th>\n",
       "      <td>13.752029</td>\n",
       "      <td>29.636646</td>\n",
       "      <td>0.0</td>\n",
       "      <td>0.113874</td>\n",
       "      <td>1.121615</td>\n",
       "      <td>1.456674</td>\n",
       "    </tr>\n",
       "    <tr>\n",
       "      <th>1</th>\n",
       "      <td>19.858070</td>\n",
       "      <td>27.205206</td>\n",
       "      <td>0.0</td>\n",
       "      <td>0.406674</td>\n",
       "      <td>3.654852</td>\n",
       "      <td>1.151986</td>\n",
       "    </tr>\n",
       "    <tr>\n",
       "      <th>2</th>\n",
       "      <td>7.912936</td>\n",
       "      <td>2.502115</td>\n",
       "      <td>0.0</td>\n",
       "      <td>-0.313498</td>\n",
       "      <td>4.283982</td>\n",
       "      <td>1.889671</td>\n",
       "    </tr>\n",
       "  </tbody>\n",
       "</table>\n",
       "</div>"
      ],
      "text/plain": [
       "          x0         y0   z0  costheta       phi     theta\n",
       "0  13.752029  29.636646  0.0  0.113874  1.121615  1.456674\n",
       "1  19.858070  27.205206  0.0  0.406674  3.654852  1.151986\n",
       "2   7.912936   2.502115  0.0 -0.313498  4.283982  1.889671"
      ]
     },
     "execution_count": 45,
     "metadata": {},
     "output_type": "execute_result"
    }
   ],
   "source": [
    "trajectories.head(3)"
   ]
  },
  {
   "cell_type": "markdown",
   "metadata": {
    "slideshow": {
     "slide_type": "slide"
    }
   },
   "source": [
    "We define a function which computes which of the trajectories crosses a certain detector:"
   ]
  },
  {
   "cell_type": "code",
   "execution_count": 46,
   "metadata": {},
   "outputs": [],
   "source": [
    "def accepted(trajectories, detector):\n",
    "    t = trajectories\n",
    "    d = detector\n",
    "\n",
    "    x = t.x0 + np.tan(t.theta) * np.cos(t.phi) * (d.z - t.z0)\n",
    "    y = t.x0 + np.tan(t.theta) * np.sin(t.phi) * (d.z - t.z0)\n",
    "\n",
    "    acc_x = np.logical_and(x >= d.xmin, x < d.xmax)\n",
    "    acc_y = np.logical_and(y >= d.ymin, y < d.ymax)\n",
    "        \n",
    "    return np.logical_and(acc_x, acc_y)"
   ]
  },
  {
   "cell_type": "markdown",
   "metadata": {},
   "source": [
    "Now we can add new columns to the data frame with the acceptance information. We make also use of __numpy.logical_and__ for the element-wise and of two arrays."
   ]
  },
  {
   "cell_type": "code",
   "execution_count": 47,
   "metadata": {},
   "outputs": [],
   "source": [
    "trajectories[\"accepted_1\"] = accepted(trajectories, det1)\n",
    "trajectories[\"accepted_2\"] = np.logical_and(trajectories[\"accepted_1\"],\n",
    "                                            accepted(trajectories, det2))"
   ]
  },
  {
   "cell_type": "markdown",
   "metadata": {
    "slideshow": {
     "slide_type": "slide"
    }
   },
   "source": [
    "To get the acceptance, we need to:\n",
    "1. count the occurence of `True` by summing all elements in the `accepted_1` and `accepted_2` columns\n",
    "2. divide by the total number of trajectories"
   ]
  },
  {
   "cell_type": "code",
   "execution_count": 48,
   "metadata": {},
   "outputs": [
    {
     "name": "stdout",
     "output_type": "stream",
     "text": [
      "Muons in acceptance of two detectors: 32.05 %\n",
      "Muons in full detector acceptance: 14.86 %\n"
     ]
    }
   ],
   "source": [
    "acceptance_1 = trajectories.accepted_1.sum() / n\n",
    "acceptance_2 = trajectories.accepted_2.sum() / n\n",
    "print(f\"Muons in acceptance of two detectors: {100*acceptance_1:.2f} %\")\n",
    "print(f\"Muons in full detector acceptance: {100*acceptance_2:.2f} %\")"
   ]
  },
  {
   "cell_type": "markdown",
   "metadata": {
    "slideshow": {
     "slide_type": "slide"
    }
   },
   "source": [
    "To validate our result, we look at the $\\cos(\\theta)$ distrubution of the accepted muons:"
   ]
  },
  {
   "cell_type": "code",
   "execution_count": 49,
   "metadata": {
    "slideshow": {
     "slide_type": "skip"
    }
   },
   "outputs": [],
   "source": [
    "def make_costheta_plot(trajectories):\n",
    "    trajectories.costheta.hist(\n",
    "        bins=200, histtype=\"step\", label=\"Detector 1\")\n",
    "    trajectories.query(\"accepted_1\").costheta.hist(\n",
    "        bins=200, histtype=\"step\", label=\"Detector 1 & 2\")\n",
    "    trajectories.query(\"accepted_2\").costheta.hist(\n",
    "        bins=200, histtype=\"step\", label=\"Detector 1 & 3\")\n",
    "    plt.xlabel(r'$\\cos{theta}$')\n",
    "    plt.ylabel(\"Events\")\n",
    "    plt.legend(loc=\"upper right\")\n",
    "    plt.show()"
   ]
  },
  {
   "cell_type": "code",
   "execution_count": 50,
   "metadata": {
    "slideshow": {
     "slide_type": "-"
    }
   },
   "outputs": [
    {
     "data": {
      "image/png": "[encoded data removed]",
      "text/plain": [
       "<Figure size 432x288 with 1 Axes>"
      ]
     },
     "metadata": {
      "needs_background": "light"
     },
     "output_type": "display_data"
    }
   ],
   "source": [
    "make_costheta_plot(trajectories)"
   ]
  },
  {
   "cell_type": "markdown",
   "metadata": {},
   "source": [
    "As expected, muons with trajectory parallel to the $x, y$ plane ($\\cos(\\theta) = 0$) are not able to hit all three detectors, while trajectores straight up or straight down get fully accepted by the detector setup."
   ]
  },
  {
   "cell_type": "markdown",
   "metadata": {
    "slideshow": {
     "slide_type": "slide"
    }
   },
   "source": [
    "## Loading and saving data to files\n",
    "\n",
    "Pandas data frames are also very convenient to save your data to text files with comma separated values (`.csv` files), or load them. Let's save some of the trajectories from the previous chapter:"
   ]
  },
  {
   "cell_type": "code",
   "execution_count": 56,
   "metadata": {},
   "outputs": [],
   "source": [
    "trajectories[:100].to_csv(\"trajectories.csv\")"
   ]
  },
  {
   "cell_type": "markdown",
   "metadata": {},
   "source": [
    "The file will look like this, and can even be opened with a spreadsheet program:"
   ]
  },
  {
   "cell_type": "code",
   "execution_count": 57,
   "metadata": {},
   "outputs": [
    {
     "name": "stdout",
     "output_type": "stream",
     "text": [
      ",x0,y0,z0,costheta,phi,theta,accepted_1,accepted_2\r\n",
      "0,13.752028578414674,29.636645544986497,0.0,0.11387431940063308,1.1216148078460713,1.4566744518647299,False,False\r\n",
      "1,19.85806981798529,27.205206038797094,0.0,0.40667431328464465,3.654851880235507,1.1519855337306757,True,False\r\n",
      "2,7.91293642393425,2.502115479605612,0.0,-0.3134984298336412,4.283981634710009,1.8896712824591113,False,False\r\n",
      "3,12.49117271834789,22.223835330087876,0.0,0.7252554458534375,0.2842555388103299,0.7593909761905285,False,False\r\n"
     ]
    }
   ],
   "source": [
    "!head -5 trajectories.csv"
   ]
  },
  {
   "cell_type": "markdown",
   "metadata": {},
   "source": [
    "If you want to read a `.csv` file, this can be done with [pandas.read_csv](https://pandas.pydata.org/pandas-docs/stable/reference/api/pandas.read_csv.html)."
   ]
  },
  {
   "cell_type": "markdown",
   "metadata": {
    "slideshow": {
     "slide_type": "slide"
    }
   },
   "source": [
    "## Conclusion\n",
    "\n",
    "What you can take away from this presentation:\n",
    "* The __Python ecosystem__ is very well suited for data analysis in physics\n",
    "* How to plot graphs and histograms with __numpy__ and __matplotlib__\n",
    "* In-depth understanding of __weighted linear least squares__ for parameter estimation\n",
    "  * Relation between __likelihood__, __chi-square__ and __covariance matrices__\n",
    "* Goodness of fit with the __reduced chi-square test__\n",
    "* Fit any function with `scipy.optimize.curve_fit` (non-linear least squares)\n",
    "* Monte Carlo methods are well suited for detector geometry studies"
   ]
  },
  {
   "cell_type": "markdown",
   "metadata": {
    "slideshow": {
     "slide_type": "slide"
    }
   },
   "source": [
    "Look at this presentation online, try the code in the browser or just download and run it!\n",
    "\n",
    "<https://github.com/guitargeek/trex-analysis-presentation>"
   ]
  }
 ],
 "metadata": {
  "kernelspec": {
   "display_name": "Python 3",
   "language": "python",
   "name": "python3"
  },
  "language_info": {
   "codemirror_mode": {
    "name": "ipython",
    "version": 3
   },
   "file_extension": ".py",
   "mimetype": "text/x-python",
   "name": "python",
   "nbconvert_exporter": "python",
   "pygments_lexer": "ipython3",
   "version": "3.8.1"
  }
 },
 "nbformat": 4,
 "nbformat_minor": 2
}
