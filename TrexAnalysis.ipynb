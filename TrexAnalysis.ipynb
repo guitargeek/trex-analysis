{
 "cells": [
  {
   "cell_type": "markdown",
   "metadata": {
    "slideshow": {
     "slide_type": "slide"
    }
   },
   "source": [
    "# Trex Data Analysis Tutorial\n",
    "__5. April 2019__\n",
    "\n",
    "Chiara Amendola, Cristina Martin-Perez, Jonas Rembser"
   ]
  },
  {
   "cell_type": "markdown",
   "metadata": {
    "slideshow": {
     "slide_type": "slide"
    }
   },
   "source": [
    "## What you can learn today\n",
    "\n",
    "We will discuss some common problems in physics data analysis:\n",
    "* __parameter estimation__, examples:\n",
    "   * determine your detector resolution\n",
    "   * obtain calibration coefficients\n",
    "   \n",
    "* __hypothesis testing__, examples:\n",
    "   * is your assumption of a linearity valid?\n",
    "   * is this process compatible with an exponential law?\n",
    "   \n",
    "* __uncertainty calculation__\n",
    "   * always quote results with uncertainties, e.g. $E = 669 \\pm 5$ keV\n",
    "   * stimate both __statistic__ and __systematic__ uncertainty\n",
    "   \n",
    "* __Monte Carlo simulation__, for example:\n",
    "   * simulate response of photomultiplier tube\n",
    "   * obtain acceptance of detector with complicated geometry"
   ]
  },
  {
   "cell_type": "markdown",
   "metadata": {
    "slideshow": {
     "slide_type": "slide"
    }
   },
   "source": [
    "## Introduction\n",
    "\n",
    "* Examples in this presentation are based on the programming language __Python__ and libraries from it's ecosystem\n",
    "* Many alternatives exists, don't hesitate to explore them!\n",
    "  * __Programming languages__: C++, Julia, R, Matlab, Go, ...\n",
    "  * __Plotting and data analysis__: gnuplot, ROOT, ..\n",
    "* This is not an introduction to Python, it assumes you are a bit familiar with it\n",
    "* There are a lot of resources on the internet:\n",
    "  * Python website: <https://www.python.org>\n",
    "  * Python tutorials: <https://docs.python.org/2/tutorial/>\n",
    "  * Google $\\to$ <https://www.stackoverflow.com>"
   ]
  },
  {
   "cell_type": "markdown",
   "metadata": {
    "slideshow": {
     "slide_type": "slide"
    }
   },
   "source": [
    "## Software we use in data analysis around Python\n",
    "\n",
    "The Python ecosystem established itself __the standard__ for modern data analysis, of which you will use today:\n",
    "\n",
    "* the Python programming language\n",
    "* the NumPy library for handling numerical data and linear algebra\n",
    "* the SciPy library for scientific computing\n",
    "* matplotlib to easily make nice plots\n",
    "* the Jupyter Notebook to interactively work with Python\n",
    "  * this presentation is actually a notebook itselt, which you can find here\n",
    "\n",
    "More specific to High Energy Physics (HEP), there is also ROOT (developed by CERN), a modular scientific software toolkit. It is very useful when performance is key, since it can also be used in C++."
   ]
  },
  {
   "cell_type": "markdown",
   "metadata": {
    "slideshow": {
     "slide_type": "slide"
    }
   },
   "source": [
    "## Reminders about Python\n",
    "\n",
    "* Syntax is \"similar\" to English"
   ]
  },
  {
   "cell_type": "code",
   "execution_count": 63,
   "metadata": {},
   "outputs": [
    {
     "name": "stdout",
     "output_type": "stream",
     "text": [
      "salut tout le monde\n"
     ]
    }
   ],
   "source": [
    "print(\"salut tout le monde\")"
   ]
  },
  {
   "cell_type": "markdown",
   "metadata": {},
   "source": [
    "* No explicit types for variables"
   ]
  },
  {
   "cell_type": "code",
   "execution_count": 64,
   "metadata": {},
   "outputs": [
    {
     "name": "stdout",
     "output_type": "stream",
     "text": [
      "1 one\n"
     ]
    }
   ],
   "source": [
    "n = 1\n",
    "s = \"one\"\n",
    "print(n, s)"
   ]
  },
  {
   "cell_type": "markdown",
   "metadata": {
    "slideshow": {
     "slide_type": "slide"
    }
   },
   "source": [
    "* Blocks of code (if-else, for loops, ...) are denoted using indentation"
   ]
  },
  {
   "cell_type": "code",
   "execution_count": 65,
   "metadata": {},
   "outputs": [
    {
     "name": "stdout",
     "output_type": "stream",
     "text": [
      "5.5 is > 0\n",
      "-5.5 is <= 0\n"
     ]
    }
   ],
   "source": [
    "number1 = 5.5\n",
    "number2 = -5.5\n",
    "\n",
    "if number1 > 0:\n",
    "    print(number1, \"is > 0\")\n",
    "else:\n",
    "    print(number1, \"is <= 0\")\n",
    "    \n",
    "if number2 > 0:\n",
    "    print(number2, \"is > 0\")\n",
    "else:\n",
    "    print(number2, \"is <= 0\")"
   ]
  },
  {
   "cell_type": "markdown",
   "metadata": {
    "slideshow": {
     "slide_type": "slide"
    }
   },
   "source": [
    "* Lists can contain multiple, ordered, heterogeneous values"
   ]
  },
  {
   "cell_type": "code",
   "execution_count": 66,
   "metadata": {},
   "outputs": [
    {
     "name": "stdout",
     "output_type": "stream",
     "text": [
      "1\n",
      "2\n",
      "None\n",
      "4\n",
      "was guckst du\n"
     ]
    }
   ],
   "source": [
    "mylist = [1, 2, None, 4, \"was guckst du\"]\n",
    "for x in mylist:\n",
    "    print(x)"
   ]
  },
  {
   "cell_type": "markdown",
   "metadata": {
    "slideshow": {
     "slide_type": "slide"
    }
   },
   "source": [
    "* You can define functions and call them using positional or keyword arguments\n",
    "* you can also define [classes](https://docs.python.org/3.6/tutorial/classes.html)"
   ]
  },
  {
   "cell_type": "code",
   "execution_count": 67,
   "metadata": {},
   "outputs": [
    {
     "name": "stdout",
     "output_type": "stream",
     "text": [
      "2.0 2.0\n"
     ]
    }
   ],
   "source": [
    "def divide(num, den):\n",
    "    return num/den\n",
    "\n",
    "x1 = divide(10, 5)\n",
    "x2 = divide(num=10, den=5)\n",
    "\n",
    "print(x1, x2)"
   ]
  },
  {
   "cell_type": "markdown",
   "metadata": {
    "slideshow": {
     "slide_type": "slide"
    }
   },
   "source": [
    "* You can import libraries and use their functionalities:"
   ]
  },
  {
   "cell_type": "code",
   "execution_count": 68,
   "metadata": {
    "slideshow": {
     "slide_type": "-"
    }
   },
   "outputs": [],
   "source": [
    "import numpy as np\n",
    "import pandas as pd\n",
    "import scipy\n",
    "import matplotlib.pyplot as plt\n",
    "\n",
    "from scipy.optimize import curve_fit\n",
    "from numpy import matmul as mm\n",
    "from scipy.stats import chi2"
   ]
  },
  {
   "cell_type": "markdown",
   "metadata": {},
   "source": [
    "* In the Jupyter notebook, the return value of the last command in the cell is automatically printed"
   ]
  },
  {
   "cell_type": "code",
   "execution_count": 69,
   "metadata": {},
   "outputs": [
    {
     "data": {
      "text/plain": [
       "21"
      ]
     },
     "execution_count": 69,
     "metadata": {},
     "output_type": "execute_result"
    }
   ],
   "source": [
    "1 + 2 + 3 + 4 + 5 + 6"
   ]
  },
  {
   "cell_type": "markdown",
   "metadata": {
    "slideshow": {
     "slide_type": "slide"
    }
   },
   "source": [
    "## Pseudorandom numbers\n",
    "\n",
    "To generate __random data to try out our tools__, we will generate __pseudorandom numbers__.\n",
    "\n",
    "* number generated by mathematical formulae with statistical properties close to the ones of random numbers.\n",
    "* a good algorithm should not present a correlation between the generated numbers\n",
    "* generation of pseudorandom numbers is reporducible: you will get the same numbers if you start from the same seed\n",
    "\n",
    "_Example_: the __Linear Congruential Generator__ $x_{n+1} = a x_n + c$ mod $m$."
   ]
  },
  {
   "cell_type": "code",
   "execution_count": 70,
   "metadata": {},
   "outputs": [],
   "source": [
    "def linear_congruential(size, seed=1, a=7**5, c=0, m=2**31):\n",
    "    n = np.prod(size)\n",
    "    x = np.empty(n)\n",
    "    x[0] = seed\n",
    "    for i in range(1,n):\n",
    "        x[i] = (a*x[i-1] + c) % m\n",
    "    return x.reshape(size) / m"
   ]
  },
  {
   "cell_type": "markdown",
   "metadata": {
    "slideshow": {
     "slide_type": "slide"
    }
   },
   "source": [
    "With the wrong choice of $a, c$ and $m$, the __Linear Congruential Generator__ shows an obvious non-random pattern."
   ]
  },
  {
   "cell_type": "code",
   "execution_count": 71,
   "metadata": {
    "slideshow": {
     "slide_type": "-"
    }
   },
   "outputs": [],
   "source": [
    "x1 = linear_congruential((2,500), seed=1, a=7**5, c=0, m=2**31)\n",
    "x2 = linear_congruential((2,500), seed=1, a=13, c=0, m=31)"
   ]
  },
  {
   "cell_type": "code",
   "execution_count": 72,
   "metadata": {
    "slideshow": {
     "slide_type": "skip"
    }
   },
   "outputs": [],
   "source": [
    "def linear_congruential_plot(x1, x2):\n",
    "    f, (ax1, ax2) = plt.subplots(1, 2, figsize=(12,6))\n",
    "    ax1.scatter(x1[0], x1[1], s=2, color='k')\n",
    "    ax2.scatter(x2[0], x2[1], s=2, color='k')\n",
    "    ax1.set_xlim(0,1); ax1.set_ylim(0,1); ax2.set_xlim(0,1); ax2.set_ylim(0,1)\n",
    "    ax1.set_title(r'$a = 7^5$,   $c=0$,   $m=2^{31}$')\n",
    "    ax2.set_title(r'$a = 13$,   $c=0$,   $m=31$')\n",
    "    ax1.set_xlabel(r'$x_1^1$')\n",
    "    ax1.set_ylabel(r'$x_1^2$')\n",
    "    ax2.set_xlabel(r'$x_2^1$')\n",
    "    ax2.set_ylabel(r'$x_2^2$')\n",
    "    plt.show()"
   ]
  },
  {
   "cell_type": "code",
   "execution_count": 73,
   "metadata": {
    "slideshow": {
     "slide_type": "-"
    }
   },
   "outputs": [
    {
     "data": {
      "image/png": "[encoded data removed]",
      "text/plain": [
       "<Figure size 864x432 with 2 Axes>"
      ]
     },
     "metadata": {
      "needs_background": "light"
     },
     "output_type": "display_data"
    }
   ],
   "source": [
    "linear_congruential_plot(x1, x2)"
   ]
  },
  {
   "cell_type": "markdown",
   "metadata": {
    "slideshow": {
     "slide_type": "slide"
    }
   },
   "source": [
    "## Pseudorandom numbers in Python\n",
    "\n",
    "Python and numpy use the [Mersenne Twister](https://en.wikipedia.org/wiki/Mersenne_Twister) algorithm for pseudorandom number generation. We can set the seed for numpy with `np.random.seed()` to get reproducible results and use the [numpy.random](https://docs.scipy.org/doc/numpy/reference/routines.random.html) module to generate arrays of random numbers according to many different probability density functions, for example a __uniform distribution__:"
   ]
  },
  {
   "cell_type": "code",
   "execution_count": 74,
   "metadata": {},
   "outputs": [
    {
     "data": {
      "image/png": "[encoded data removed]",
      "text/plain": [
       "<Figure size 432x288 with 1 Axes>"
      ]
     },
     "metadata": {
      "needs_background": "light"
     },
     "output_type": "display_data"
    }
   ],
   "source": [
    "np.random.seed(42)\n",
    "\n",
    "a = np.random.uniform(size=10000)\n",
    "plt.hist(a, bins=200)\n",
    "plt.show()"
   ]
  },
  {
   "cell_type": "markdown",
   "metadata": {
    "slideshow": {
     "slide_type": "slide"
    }
   },
   "source": [
    "## Histograms\n",
    "\n",
    "A __histogram__ is a representation of the distribution of numerical data. The [numpy.histogram](https://docs.scipy.org/doc/numpy/reference/generated/numpy.histogram.html) function returns you the number of counts in each __bin__, with the bins being defined by the __bin edges__ you pass as a second argument."
   ]
  },
  {
   "cell_type": "code",
   "execution_count": 75,
   "metadata": {},
   "outputs": [
    {
     "data": {
      "text/plain": [
       "(array([0, 0, 0, 0, 0, 0, 0, 0, 1, 0, 1, 2, 0, 1, 0, 3, 1, 0, 1, 0]),\n",
       " array([-6. , -5.4, -4.8, -4.2, -3.6, -3. , -2.4, -1.8, -1.2, -0.6,  0. ,\n",
       "         0.6,  1.2,  1.8,  2.4,  3. ,  3.6,  4.2,  4.8,  5.4,  6. ]))"
      ]
     },
     "execution_count": 75,
     "metadata": {},
     "output_type": "execute_result"
    }
   ],
   "source": [
    "data = [1, 2, 3, 3, 3, 5, 1, 0, -1, 4]\n",
    "bins = np.linspace(-6, 6, 21)\n",
    "\n",
    "np.histogram(data, bins)"
   ]
  },
  {
   "cell_type": "markdown",
   "metadata": {},
   "source": [
    "The `numpy.histogram` function returns you:\n",
    "* the number of counts in each bin\n",
    "* the bin edges (redundant information here since we already specified them)"
   ]
  },
  {
   "cell_type": "markdown",
   "metadata": {
    "slideshow": {
     "slide_type": "slide"
    }
   },
   "source": [
    "You can also fill histograms with random values, here for example according to a __normal distribution__:"
   ]
  },
  {
   "cell_type": "code",
   "execution_count": 76,
   "metadata": {},
   "outputs": [
    {
     "data": {
      "text/plain": [
       "(array([  1,   2,  12,  21,  28,  47,  66,  82, 112, 112, 122, 101,  96,\n",
       "         77,  43,  31,  20,  14,   7,   1]),\n",
       " array([-6. , -5.4, -4.8, -4.2, -3.6, -3. , -2.4, -1.8, -1.2, -0.6,  0. ,\n",
       "         0.6,  1.2,  1.8,  2.4,  3. ,  3.6,  4.2,  4.8,  5.4,  6. ]))"
      ]
     },
     "execution_count": 76,
     "metadata": {},
     "output_type": "execute_result"
    }
   ],
   "source": [
    "a = np.random.normal(loc=0.0, scale=2.0, size=1000)\n",
    "np.histogram(a, bins)"
   ]
  },
  {
   "cell_type": "markdown",
   "metadata": {
    "slideshow": {
     "slide_type": "slide"
    }
   },
   "source": [
    "It's also very convenient to plot histograms directly with the [matplotlib.pyplot.hist](https://matplotlib.org/api/_as_gen/matplotlib.pyplot.hist.html) function, which uses the same interface:"
   ]
  },
  {
   "cell_type": "code",
   "execution_count": 77,
   "metadata": {},
   "outputs": [
    {
     "data": {
      "image/png": "[encoded data removed]",
      "text/plain": [
       "<Figure size 432x288 with 1 Axes>"
      ]
     },
     "metadata": {
      "needs_background": "light"
     },
     "output_type": "display_data"
    }
   ],
   "source": [
    "a = np.random.normal(loc=0.0, scale=2.0, size=1000)\n",
    "\n",
    "plt.hist(a, bins)\n",
    "plt.show()"
   ]
  },
  {
   "cell_type": "markdown",
   "metadata": {
    "slideshow": {
     "slide_type": "slide"
    }
   },
   "source": [
    "However, the  `numpy` function is still very useful in case you want to do something with the counts before plotting, them, for example to calculate the __Poissonian uncertainy__:"
   ]
  },
  {
   "cell_type": "code",
   "execution_count": 78,
   "metadata": {},
   "outputs": [
    {
     "data": {
      "image/png": "[encoded data removed]",
      "text/plain": [
       "<Figure size 432x288 with 1 Axes>"
      ]
     },
     "metadata": {
      "needs_background": "light"
     },
     "output_type": "display_data"
    }
   ],
   "source": [
    "a = np.random.normal(loc=0.0, scale=2.0, size=1000)\n",
    "\n",
    "counts, _ = np.histogram(a, bins)\n",
    "uncert = np.sqrt(counts)\n",
    "bincenters = (bins[1:] + bins[:-1])/2.\n",
    "\n",
    "plt.errorbar(bincenters, counts, yerr=uncert, fmt='o', color='k')\n",
    "plt.show()"
   ]
  },
  {
   "cell_type": "markdown",
   "metadata": {
    "slideshow": {
     "slide_type": "slide"
    }
   },
   "source": [
    "Having the numpy array with the counts and uncertainties also helps you when you want to __fit your data__ (more on fitting later):"
   ]
  },
  {
   "cell_type": "code",
   "execution_count": 79,
   "metadata": {},
   "outputs": [],
   "source": [
    "def gaus(x, mu, sigma, N):\n",
    "    return N * 1./(np.sqrt(2*np.pi)*sigma) * np.exp(-(x - mu)**2/(2*sigma**2))\n",
    "\n",
    "popt, pcov = curve_fit(gaus, bincenters, counts,\n",
    "                       sigma=uncert, p0=[1., 1., 1000.])"
   ]
  },
  {
   "cell_type": "code",
   "execution_count": 80,
   "metadata": {},
   "outputs": [
    {
     "data": {
      "image/png": "[encoded data removed]",
      "text/plain": [
       "<Figure size 432x288 with 1 Axes>"
      ]
     },
     "metadata": {
      "needs_background": "light"
     },
     "output_type": "display_data"
    }
   ],
   "source": [
    "plt.plot(bincenters, gaus(bincenters, *popt), \"r\")\n",
    "plt.errorbar(bincenters, counts, yerr=uncert, fmt='o', color='k')\n",
    "plt.show()"
   ]
  },
  {
   "cell_type": "markdown",
   "metadata": {
    "slideshow": {
     "slide_type": "slide"
    }
   },
   "source": [
    "## Fitting the data"
   ]
  },
  {
   "cell_type": "markdown",
   "metadata": {},
   "source": [
    "Let's create some toy data which is distributed according to $121 /\\sqrt{2x}$, plus some Gaussian noise."
   ]
  },
  {
   "cell_type": "code",
   "execution_count": 332,
   "metadata": {
    "slideshow": {
     "slide_type": "-"
    }
   },
   "outputs": [],
   "source": [
    "def f_true(x):\n",
    "    return 121./np.sqrt(x) + 40."
   ]
  },
  {
   "cell_type": "code",
   "execution_count": 333,
   "metadata": {},
   "outputs": [],
   "source": [
    "def f_noise(x):\n",
    "    return np.sqrt(f_true(x)) * np.random.normal(loc=0.0, scale=1.0, size=x.shape)"
   ]
  },
  {
   "cell_type": "code",
   "execution_count": 334,
   "metadata": {},
   "outputs": [],
   "source": [
    "def f_measurement(x):\n",
    "    return f_true(x) + f_noise(x)"
   ]
  },
  {
   "cell_type": "code",
   "execution_count": 335,
   "metadata": {},
   "outputs": [],
   "source": [
    "x = np.linspace(1., 10., 20)\n",
    "y = f_measurement(x)\n",
    "yerr = np.sqrt(y)"
   ]
  },
  {
   "cell_type": "code",
   "execution_count": 336,
   "metadata": {
    "slideshow": {
     "slide_type": "skip"
    }
   },
   "outputs": [],
   "source": [
    "def data_and_true_function_plot(x, y, yerr, f_true):\n",
    "    xx = np.linspace(1.,10.,200)\n",
    "    plt.plot(xx, f_true(xx), label=\"true distribution\")\n",
    "    plt.errorbar(x, y, yerr=yerr, fmt='o', color='k', label=\"data\")\n",
    "    plt.legend(loc=\"upper right\")\n",
    "    plt.xlabel(\"Amplitude\")\n",
    "    plt.ylabel(\"Counts\")"
   ]
  },
  {
   "cell_type": "code",
   "execution_count": 337,
   "metadata": {
    "slideshow": {
     "slide_type": "skip"
    }
   },
   "outputs": [],
   "source": [
    "def data_plot(x, y, yerr):\n",
    "    plt.errorbar(x, y, yerr=yerr, fmt='o', color='k', label=\"data\")\n",
    "    plt.legend(loc=\"upper right\")\n",
    "    plt.xlabel(\"Amplitude\")\n",
    "    plt.ylabel(\"Counts\")"
   ]
  },
  {
   "cell_type": "markdown",
   "metadata": {
    "slideshow": {
     "slide_type": "slide"
    }
   },
   "source": [
    "This is a visualization of our \"measured\" data and the underlying function:"
   ]
  },
  {
   "cell_type": "code",
   "execution_count": 338,
   "metadata": {},
   "outputs": [
    {
     "data": {
      "image/png": "[encoded data removed]",
      "text/plain": [
       "<Figure size 432x288 with 1 Axes>"
      ]
     },
     "metadata": {
      "needs_background": "light"
     },
     "output_type": "display_data"
    }
   ],
   "source": [
    "data_and_true_function_plot(x, y, yerr, f_true)\n",
    "plt.show()"
   ]
  },
  {
   "cell_type": "markdown",
   "metadata": {
    "slideshow": {
     "slide_type": "slide"
    }
   },
   "source": [
    "In a real experiment, you find youself rather in the following situation:"
   ]
  },
  {
   "cell_type": "code",
   "execution_count": 339,
   "metadata": {
    "slideshow": {
     "slide_type": "-"
    }
   },
   "outputs": [
    {
     "data": {
      "image/png": "[encoded data removed]",
      "text/plain": [
       "<Figure size 432x288 with 1 Axes>"
      ]
     },
     "metadata": {
      "needs_background": "light"
     },
     "output_type": "display_data"
    }
   ],
   "source": [
    "data_plot(x, y, yerr)\n",
    "plt.show()"
   ]
  },
  {
   "cell_type": "markdown",
   "metadata": {},
   "source": [
    "You don't know the underlying function! But you want to fit it in order to estimate the parameters $a$ and $b$ in the model $a/\\sqrt{bx}$.\n",
    "\n",
    "How is this done?"
   ]
  },
  {
   "cell_type": "markdown",
   "metadata": {
    "slideshow": {
     "slide_type": "slide"
    }
   },
   "source": [
    "### The Likelihood\n",
    "\n",
    "The fit should give you the model for which the observed data is the most likely:\n",
    "\n",
    "$$\\text{best model} = \\text{argmax}_\\text{model}~\\mathcal{L}(\\text{model}),$$\n",
    "where\n",
    "$$\\mathcal{L}(\\text{model}) = P(\\text{data}|\\text{model}).$$\n",
    "\n",
    "We often denote a model as an ensemble of model parameters $\\theta$, and the parameters of the best model as $\\hat\\theta$:\n",
    "\n",
    "$$\\hat\\theta = \\text{argmax}_\\theta~\\mathcal{L}(\\theta)$$"
   ]
  },
  {
   "cell_type": "markdown",
   "metadata": {
    "slideshow": {
     "slide_type": "slide"
    }
   },
   "source": [
    "### Fitting with linear least squares\n",
    "\n",
    "In the case of a __linear model__ $f(x) = \\theta_1x + \\theta_0$ where the data fluctuates with the measured uncertainties $\\sigma_i$ according to a normal distribution:\n",
    "\n",
    "$$\\mathcal{L}(\\theta) = \\prod_i \\frac{1}{\\sqrt{2\\pi\\sigma_i}} \\exp\\left(\\frac{(y_i - \\theta_1 x_i + \\theta_0)^2}{2\\sigma_i^2}\\right).$$\n",
    "\n",
    "We omitted from now on the normalizations of the Gaussians as they have no effect on the position of the minimum $\\hat\\theta$.\n",
    "\n",
    "__Note:__ when we talk about a __linear model__, we mean linear in the parameters $\\vec\\theta$, not the observed $\\vec x$ or $\\vec y$! For example, a quadratic model $f(x) = \\theta_2x*2 + \\theta_1x + \\theta_0$ is also linear in that sense."
   ]
  },
  {
   "cell_type": "markdown",
   "metadata": {
    "slideshow": {
     "slide_type": "slide"
    }
   },
   "source": [
    "Maximizing $\\mathcal{L}$ is equivalent to minimizing $-2\\log\\mathcal{L}$:\n",
    "\n",
    "$$-2\\log\\mathcal{L}(\\vec\\theta) = -2\\log\\left(\\prod_i \\exp\\left(\\frac{\\left(y_i - \\theta_1 x_i + \\theta_0\\right)^2}{2\\sigma_i^2}\\right)\\right) + C = \\sum_i \\frac{(y_i - \\theta_1 x_i + \\theta_0)^2}{\\sigma_i^2} + C$$\n",
    "\n",
    "The constant $C$ would be the term from the normalizations, which we can ignore from now. As an exercise, you can find the best fit values $\\theta_1$ and $\\theta_2$ analytically.\n",
    "\n",
    "Here, we will recognize the problem as a __weighted linear least squares problem__ and tackle it with linear algebra."
   ]
  },
  {
   "cell_type": "markdown",
   "metadata": {
    "slideshow": {
     "slide_type": "slide"
    }
   },
   "source": [
    "Let us express the problem in matrix notation. The (weighted) least squares are often denoted with $\\chi^2$, or \"chi-square\":\n",
    "\n",
    "$$ \\vec{\\hat\\theta} = \\text{argmin}_\\vec\\theta~(\\vec y - X\\vec\\theta)^TV^{-1}(\\vec y - X\\vec\\theta) = \\text{argmin}_\\vec\\theta~\\chi^2(\\vec\\theta).$$\n",
    "\n",
    "The matrix $V$ is a so called __covariance matrix__, which generalizes the notion of variance to multiple dimensions. I our example, $V$ is diagonal because our individual measurements are not correlated:\n",
    "\n",
    "$$\n",
    "V = \\begin{pmatrix} \n",
    "    \\sigma_{1}^2 & 0 & \\dots \\\\\n",
    "    \\vdots & \\ddots & \\\\\n",
    "    0 &        & \\sigma_n ^2\n",
    "    \\end{pmatrix}\n",
    "$$"
   ]
  },
  {
   "cell_type": "code",
   "execution_count": 340,
   "metadata": {
    "slideshow": {
     "slide_type": "-"
    }
   },
   "outputs": [],
   "source": [
    "V = np.diag(yerr**2)"
   ]
  },
  {
   "cell_type": "markdown",
   "metadata": {
    "slideshow": {
     "slide_type": "slide"
    }
   },
   "source": [
    "Furthermore, we \"extend\" the vector $\\vec x$ to a matrix $X$, which has one additional column filled with ones to translate our problem of a linear fit __with offset__ to matrix notation:\n",
    "\n",
    "$$X = \\begin{pmatrix}\n",
    "      1 & x_1 \\\\\n",
    "      \\vdots & \\vdots \\\\\n",
    "      1 & x_n 1\n",
    "      \\end{pmatrix}.\n",
    "$$"
   ]
  },
  {
   "cell_type": "code",
   "execution_count": 341,
   "metadata": {},
   "outputs": [],
   "source": [
    "X = np.vstack([np.ones_like(x), x]).T"
   ]
  },
  {
   "cell_type": "markdown",
   "metadata": {},
   "source": [
    "The vectors $\\vec y$ and $\\vec \\theta$ remain the measured values and the vector of model parameters $\\vec\\theta = \\begin{pmatrix}\\theta_0 & \\theta_1 \\end{pmatrix}$ respectively."
   ]
  },
  {
   "cell_type": "markdown",
   "metadata": {
    "slideshow": {
     "slide_type": "slide"
    }
   },
   "source": [
    "We can now find $\\vec{\\hat\\theta}$ analytically as the solution of:\n",
    "\n",
    "$$X^TV^{-1}X\\vec{\\hat\\theta} = X^TV^{-1}\\vec{y},$$\n",
    "\n",
    "$$A\\vec{\\hat\\theta} = B\\vec{y}.$$\n",
    "\n",
    "We could bring $A$ on the right side by inverting it, but solving a linear equation directly is numerically more stable than inversion and multiplication:"
   ]
  },
  {
   "cell_type": "code",
   "execution_count": 366,
   "metadata": {},
   "outputs": [],
   "source": [
    "V_inv = np.linalg.inv(V)\n",
    "A = mm(X.T, mm(V_inv, X)) # we imported numpy.matmul as mm\n",
    "B = mm(X.T, V_inv)\n",
    "popt = np.linalg.solve(A, mm(B, y))"
   ]
  },
  {
   "cell_type": "markdown",
   "metadata": {
    "slideshow": {
     "slide_type": "slide"
    }
   },
   "source": [
    "Using error propagation, we can find the __covariance matrix of the model parameters__ as folllows:\n",
    "\n",
    "$$U = (A^{-1}B)V(A^{-1}B)^T = (X^TV^{-1}X)^{-1}.$$"
   ]
  },
  {
   "cell_type": "code",
   "execution_count": 367,
   "metadata": {},
   "outputs": [],
   "source": [
    "pcov = np.linalg.inv(mm(X.T, mm(V_inv, X)))"
   ]
  },
  {
   "cell_type": "markdown",
   "metadata": {},
   "source": [
    "You have now see the __linear least squares fit__ and got your first fit result:"
   ]
  },
  {
   "cell_type": "code",
   "execution_count": 368,
   "metadata": {
    "slideshow": {
     "slide_type": "-"
    }
   },
   "outputs": [
    {
     "name": "stdout",
     "output_type": "stream",
     "text": [
      "[131.61018298  -6.53583117]\n",
      "\n",
      "[[28.51873399 -3.98876815]\n",
      " [-3.98876815  0.66581393]]\n"
     ]
    }
   ],
   "source": [
    "print(popt)\n",
    "print(\"\")\n",
    "print(pcov)"
   ]
  },
  {
   "cell_type": "markdown",
   "metadata": {},
   "source": [
    "As expected, the covariance matrix is symmetric and positive semidefinite."
   ]
  },
  {
   "cell_type": "markdown",
   "metadata": {
    "slideshow": {
     "slide_type": "slide"
    }
   },
   "source": [
    "Remember that the diagonal elements of the covariance matrix are the __variances of the parameters__, so we just extract the square root of the diagonal to get the uncertainties on the fit paramteres:"
   ]
  },
  {
   "cell_type": "code",
   "execution_count": 369,
   "metadata": {},
   "outputs": [
    {
     "name": "stdout",
     "output_type": "stream",
     "text": [
      "theta_0 is found to be 131.6 ± 5.3.\n",
      "theta_1 is found to be -6.54 ± 0.82.\n"
     ]
    }
   ],
   "source": [
    "puncert = np.sqrt(np.diag(pcov))\n",
    "print(f\"theta_0 is found to be {popt[0]:.1f} ± {puncert[0]:.1f}.\")\n",
    "print(f\"theta_1 is found to be {popt[1]:.2f} ± {puncert[1]:.2f}.\")"
   ]
  },
  {
   "cell_type": "markdown",
   "metadata": {
    "slideshow": {
     "slide_type": "slide"
    }
   },
   "source": [
    "As we could already anticipate, the linear fit is not adequate for this example data, so we still have to discuss two questions:\n",
    "* How can we test the goodness of a fit?\n",
    "* How can we perform non-linear fits?"
   ]
  },
  {
   "cell_type": "code",
   "execution_count": 370,
   "metadata": {},
   "outputs": [
    {
     "data": {
      "image/png": "[encoded data removed]",
      "text/plain": [
       "<Figure size 432x288 with 1 Axes>"
      ]
     },
     "metadata": {
      "needs_background": "light"
     },
     "output_type": "display_data"
    }
   ],
   "source": [
    "data_plot(x,y, yerr)\n",
    "plt.plot(x, np.matmul(X, popt), label=\"linear fit\")\n",
    "plt.legend(loc=\"upper right\")\n",
    "plt.show()"
   ]
  },
  {
   "cell_type": "markdown",
   "metadata": {
    "slideshow": {
     "slide_type": "slide"
    }
   },
   "source": [
    "## Goodness of fit with the Reduced Chi-squared Test\n",
    "\n",
    "There are many ways to quantify the [goodness of a fit](https://en.wikipedia.org/wiki/Goodness_of_fit). We will look at the __reduced chi-squared test__, which is widely used in HEP. It is actually so common that it is automatically performed when you perform fits in ROOT.\n",
    "\n",
    "Remember the sum of squares from the previous part, not in matrix notation this time:\n",
    "$$\\chi^2 = \\sum_i \\frac{(y_i - f(x_i))^2}{\\sigma_i^2}.$$\n",
    "\n",
    "The sum of squares will be distributed according to a [chi-squared distribution](https://en.wikipedia.org/wiki/Chi-squared_distribution) $\\chi^2_k$ if the following is true:\n",
    "* your model $f(x)$ is correct\n",
    "* your Gaussian uncertainties on the data $\\vec{y}$ are correct\n",
    "\n",
    "The degrees of freedom $k$ is the __number of data points minus the number of model parameters__."
   ]
  },
  {
   "cell_type": "markdown",
   "metadata": {
    "slideshow": {
     "slide_type": "slide"
    }
   },
   "source": [
    "The probability desity function for the $\\chi^2$ distribution for different values of $k$:"
   ]
  },
  {
   "cell_type": "code",
   "execution_count": 371,
   "metadata": {},
   "outputs": [
    {
     "data": {
      "image/png": "[encoded data removed]",
      "text/plain": [
       "<Figure size 432x288 with 1 Axes>"
      ]
     },
     "metadata": {
      "needs_background": "light"
     },
     "output_type": "display_data"
    }
   ],
   "source": [
    "c = np.linspace(0, 50, 200)\n",
    "for k in [3, 10, 18, 26]:\n",
    "    plt.plot(c, chi2.pdf(c, k), label=f\"k = {k}\")\n",
    "plt.legend(loc=\"upper right\")\n",
    "plt.show()"
   ]
  },
  {
   "cell_type": "markdown",
   "metadata": {
    "slideshow": {
     "slide_type": "slide"
    }
   },
   "source": [
    "In our case, we have 20 data points and 2 model parameter for the linear fit, resulting in 18 degrees of freedom. The __mode__ of the $\\chi^2_k$ distribution for $k > 2$ is $k$, so we expect the sum of squared residuals to be around 18 (or in other words, the sum of squares divided by $k$ should be around one).\n",
    "\n",
    "Let us calculate the reduced sum of squares for our linear fit:"
   ]
  },
  {
   "cell_type": "code",
   "execution_count": 372,
   "metadata": {},
   "outputs": [
    {
     "name": "stdout",
     "output_type": "stream",
     "text": [
      "chi-squared over NDF: 1.3722\n"
     ]
    }
   ],
   "source": [
    "c2 = np.sum((np.matmul(X, popt) - y)**2/yerr**2)\n",
    "print(f\"chi-squared over NDF: {c2/18:.4f}\")"
   ]
  },
  {
   "cell_type": "markdown",
   "metadata": {
    "slideshow": {
     "slide_type": "slide"
    }
   },
   "source": [
    "Using the $chi^2$ distribution, we can calculate the __p-value__:\n",
    "* probability to get this $\\chi^2$ or worse if the model would be correct\n",
    "\n",
    "We use for this the \"survival function\" of the $\\chi^2$ distribution (one minus the cumulative density function):"
   ]
  },
  {
   "cell_type": "code",
   "execution_count": 373,
   "metadata": {},
   "outputs": [
    {
     "name": "stdout",
     "output_type": "stream",
     "text": [
      "p-value: 0.1334\n"
     ]
    }
   ],
   "source": [
    "print(f\"p-value: {chi2.sf(c2, 18):.4f}\")"
   ]
  },
  {
   "cell_type": "markdown",
   "metadata": {},
   "source": [
    "This probability is actually __not large enough to definitely reject__ our hypeothesis of a $f(x) = \\theta_1 x + \\theta_0$ function!"
   ]
  },
  {
   "cell_type": "markdown",
   "metadata": {
    "slideshow": {
     "slide_type": "slide"
    }
   },
   "source": [
    "## Nonlinear least squares fit"
   ]
  },
  {
   "cell_type": "markdown",
   "metadata": {},
   "source": [
    "In the general case of a model $f(x)$ which does not depend linearly on the model parameters.\n",
    "* Least-squares solution can't be found analytically\n",
    "* Least-squared solution has to be found by iterative minimization algorithm\n",
    "\n",
    "Two basic minimization algorithms are the [Gauss-Newton algorithm](https://en.wikipedia.org/wiki/Gauss%E2%80%93Newton_algorithm) and [Gradient descent](https://en.wikipedia.org/wiki/Gradient_descent).\n",
    "\n",
    "The [Levenberg–Marquardt algorithm](https://en.wikipedia.org/wiki/Levenberg%E2%80%93Marquardt_algorithm) implements a mixture between the previously mentions adgorithms for better convergence, and is implemented in the [scipy.optimize.curve_fit](https://docs.scipy.org/doc/scipy/reference/generated/scipy.optimize.curve_fit.html) function."
   ]
  },
  {
   "cell_type": "markdown",
   "metadata": {
    "slideshow": {
     "slide_type": "slide"
    }
   },
   "source": [
    "The return values of `curve_fit` should be familiar now: the optimal parameters and covariance matrix.\n",
    "\n",
    "__Never forget to set__ `absolute_sigma=True` __to get the covariance matrix as we defined it before!__"
   ]
  },
  {
   "cell_type": "code",
   "execution_count": 374,
   "metadata": {
    "slideshow": {
     "slide_type": "-"
    }
   },
   "outputs": [],
   "source": [
    "def f_model(x, a, b):\n",
    "    return a/np.sqrt(x) + b\n",
    "\n",
    "popt, pcov = curve_fit(f_model, x, y,\n",
    "                       sigma=yerr, p0=[100., 1.], absolute_sigma=True)"
   ]
  },
  {
   "cell_type": "markdown",
   "metadata": {},
   "source": [
    "We get good estimates for the parameters of our underlying function $f(x) = \\frac{a}{\\sqrt{x}} + b$:"
   ]
  },
  {
   "cell_type": "code",
   "execution_count": 375,
   "metadata": {},
   "outputs": [
    {
     "name": "stdout",
     "output_type": "stream",
     "text": [
      "a is found to be 112.6 ± 13.5 (true value is 121)\n",
      "b is found to be 40.72 ± 6.55 (true value is 40)\n"
     ]
    }
   ],
   "source": [
    "puncert = np.sqrt(np.diag(pcov))\n",
    "print(f\"a is found to be {popt[0]:.1f} ± {puncert[0]:.1f} (true value is 121)\")\n",
    "print(f\"b is found to be {popt[1]:.2f} ± {puncert[1]:.2f} (true value is 40)\")"
   ]
  },
  {
   "cell_type": "markdown",
   "metadata": {
    "slideshow": {
     "slide_type": "slide"
    }
   },
   "source": [
    "Since we now chose the right model, it will fit the data well and give a $\\chi^2/k$ close to one and a p-value which is not too small."
   ]
  },
  {
   "cell_type": "code",
   "execution_count": 376,
   "metadata": {},
   "outputs": [
    {
     "data": {
      "image/png": "[encoded data removed]",
      "text/plain": [
       "<Figure size 432x288 with 1 Axes>"
      ]
     },
     "metadata": {
      "needs_background": "light"
     },
     "output_type": "display_data"
    }
   ],
   "source": [
    "data_and_true_function_plot(x,y, yerr, f_true)\n",
    "plt.plot(x, f_model(x, *popt), label=\"fit\"); plt.legend(loc=\"upper right\")\n",
    "plt.show()"
   ]
  },
  {
   "cell_type": "code",
   "execution_count": 377,
   "metadata": {},
   "outputs": [
    {
     "name": "stdout",
     "output_type": "stream",
     "text": [
      "chi-squared over NDF: 1.0530\n",
      "p-value: 0.3947\n"
     ]
    }
   ],
   "source": [
    "c2 = np.sum((f_model(x, *popt) - y)**2/yerr**2)\n",
    "print(f\"chi-squared over NDF: {c2/18:.4f}\")\n",
    "print(f\"p-value: {chi2.sf(c2, 18):.4f}\")"
   ]
  },
  {
   "cell_type": "markdown",
   "metadata": {
    "slideshow": {
     "slide_type": "slide"
    }
   },
   "source": [
    "## Conclusion\n",
    "\n",
    "What you can take away from this presentation:\n",
    "* The __Python ecosystem__ is very well suited for data analysis in physics\n",
    "* How to plot graphs and histograms with __numpy__ and __matplotlib__\n",
    "* In-depth understanding of __weighted linear least squares__ for parameter estimation\n",
    "  * Relation between __likelihood__, __chi-square__ and __covariance matrices__\n",
    "* Goodness of fit with the __reduced chi-square test__\n",
    "* Fit any function with `scipy.optimize.curve_fit` (non-linear least squares)"
   ]
  }
 ],
 "metadata": {
  "celltoolbar": "Slideshow",
  "kernelspec": {
   "display_name": "Python 3",
   "language": "python",
   "name": "python3"
  },
  "language_info": {
   "codemirror_mode": {
    "name": "ipython",
    "version": 3
   },
   "file_extension": ".py",
   "mimetype": "text/x-python",
   "name": "python",
   "nbconvert_exporter": "python",
   "pygments_lexer": "ipython3",
   "version": "3.7.3"
  }
 },
 "nbformat": 4,
 "nbformat_minor": 2
}
