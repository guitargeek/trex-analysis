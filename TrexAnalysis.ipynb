{
 "cells": [
  {
   "cell_type": "markdown",
   "metadata": {
    "slideshow": {
     "slide_type": "slide"
    }
   },
   "source": [
    "# Trex Data Analysis Tutorial\n",
    "__5. April 2019__\n",
    "\n",
    "Chiara Amendola, Cristina Martin-Perez, Jonas Rembser"
   ]
  },
  {
   "cell_type": "markdown",
   "metadata": {
    "slideshow": {
     "slide_type": "slide"
    }
   },
   "source": [
    "## What you can learn today\n",
    "\n",
    "We will discuss some common problems in physics data analysis:\n",
    "* __parameter estimation__, examples:\n",
    "   * determine your detector resolution\n",
    "   * obtain calibration coefficients\n",
    "   \n",
    "* __hypothesis testing__, examples:\n",
    "   * is your assumption of a linearity valid?\n",
    "   * is this process compatible with an exponential law?\n",
    "   \n",
    "* __uncertainty calculation__\n",
    "   * always quote results with uncertainties, e.g. $E = 669 \\pm 5$ keV\n",
    "   * stimate both __statistic__ and __systematic__ uncertainty\n",
    "   \n",
    "* __Monte Carlo simulation__, for example:\n",
    "   * simulate response of photomultiplier tube\n",
    "   * obtain acceptance of detector with complicated geometry"
   ]
  },
  {
   "cell_type": "markdown",
   "metadata": {
    "slideshow": {
     "slide_type": "slide"
    }
   },
   "source": [
    "## Introduction\n",
    "\n",
    "* Examples in this presentation are based on the programming language __Python__ and libraries from it's ecosystem\n",
    "* Many alternatives exists, but Python emerges as industry standard\n",
    "* This is not an introduction to Python, it assumes you are a bit familiar with it\n",
    "* There are a lot of resources on the internet:\n",
    "  * Python website: <https://www.python.org>\n",
    "  * Python tutorials: <https://docs.python.org/2/tutorial/>\n",
    "  * Google $\\to$ <https://www.stackoverflow.com>"
   ]
  },
  {
   "cell_type": "markdown",
   "metadata": {
    "slideshow": {
     "slide_type": "slide"
    }
   },
   "source": [
    "## Software we use in data analysis around Python\n",
    "\n",
    "The Python ecosystem established itself __the standard__ for modern data analysis, of which you will use today:\n",
    "\n",
    "* the Python programming language\n",
    "* the NumPy library for handling numerical data and linear algebra\n",
    "* the SciPy library for scientific computing\n",
    "* matplotlib to easily make nice plots\n",
    "* the Jupyter Notebook to interactively work with Python\n",
    "  * this presentation is actually a notebook itselt, which you can find here\n",
    "\n",
    "More specific to High Energy Physics (HEP), there is also ROOT (developed by CERN), a modular scientific software toolkit. For the Trex, we stick with the more general python ecosystem, since these are skills you can transfer anywhere else, while ROOT is only used in HEP."
   ]
  },
  {
   "cell_type": "markdown",
   "metadata": {
    "slideshow": {
     "slide_type": "slide"
    }
   },
   "source": [
    "## Reminders about Python\n",
    "\n",
    "* Syntax is \"similar\" to english"
   ]
  },
  {
   "cell_type": "code",
   "execution_count": 42,
   "metadata": {},
   "outputs": [
    {
     "name": "stdout",
     "output_type": "stream",
     "text": [
      "salut tout le monde\n"
     ]
    }
   ],
   "source": [
    "print(\"salut tout le monde\")"
   ]
  },
  {
   "cell_type": "markdown",
   "metadata": {},
   "source": [
    "* No explicit types for variables"
   ]
  },
  {
   "cell_type": "code",
   "execution_count": 43,
   "metadata": {},
   "outputs": [
    {
     "name": "stdout",
     "output_type": "stream",
     "text": [
      "1 one\n"
     ]
    }
   ],
   "source": [
    "n = 1\n",
    "s = \"one\"\n",
    "print(n, s)"
   ]
  },
  {
   "cell_type": "markdown",
   "metadata": {
    "slideshow": {
     "slide_type": "slide"
    }
   },
   "source": [
    "* Blocks of code (if-else, for loops, ...) are denoted using indentation"
   ]
  },
  {
   "cell_type": "code",
   "execution_count": 45,
   "metadata": {},
   "outputs": [
    {
     "name": "stdout",
     "output_type": "stream",
     "text": [
      "5.5 is > 0\n",
      "-5.5 is <= 0\n"
     ]
    }
   ],
   "source": [
    "number1 = 5.5\n",
    "number2 = -5.5\n",
    "\n",
    "if number1 > 0:\n",
    "    print(number1, \"is > 0\")\n",
    "else:\n",
    "    print(number1, \"is <= 0\")\n",
    "    \n",
    "if number2 > 0:\n",
    "    print(number2, \"is > 0\")\n",
    "else:\n",
    "    print(number2, \"is <= 0\")"
   ]
  },
  {
   "cell_type": "markdown",
   "metadata": {
    "slideshow": {
     "slide_type": "slide"
    }
   },
   "source": [
    "* Lists can contain multiple, ordered, heterogeneous values"
   ]
  },
  {
   "cell_type": "code",
   "execution_count": 51,
   "metadata": {},
   "outputs": [
    {
     "name": "stdout",
     "output_type": "stream",
     "text": [
      "1\n",
      "2\n",
      "None\n",
      "4\n",
      "was guckst du\n"
     ]
    }
   ],
   "source": [
    "mylist = [1, 2, None, 4, \"was guckst du\"]\n",
    "for x in mylist:\n",
    "    print(x)"
   ]
  },
  {
   "cell_type": "markdown",
   "metadata": {
    "slideshow": {
     "slide_type": "slide"
    }
   },
   "source": [
    "* You can define functions and call them using positional or keyword arguments\n",
    "  * you can also define [classes](https://docs.python.org/3.6/tutorial/classes.html)\n",
    "  * remember that Python always passes references to functions, not copies (unlike C++ for example)"
   ]
  },
  {
   "cell_type": "code",
   "execution_count": 50,
   "metadata": {},
   "outputs": [
    {
     "name": "stdout",
     "output_type": "stream",
     "text": [
      "2.0 2.0\n"
     ]
    }
   ],
   "source": [
    "def divide(num, den):\n",
    "    return num/den\n",
    "\n",
    "x1 = divide(10, 5)\n",
    "x2 = divide(num=10, den=5)\n",
    "\n",
    "print(x1, x2)"
   ]
  },
  {
   "cell_type": "markdown",
   "metadata": {
    "slideshow": {
     "slide_type": "slide"
    }
   },
   "source": [
    "* You can import libraries and use their functionalities:"
   ]
  },
  {
   "cell_type": "code",
   "execution_count": 2,
   "metadata": {
    "slideshow": {
     "slide_type": "-"
    }
   },
   "outputs": [],
   "source": [
    "import numpy as np\n",
    "import pandas as pd\n",
    "import scipy\n",
    "import matplotlib.pyplot as plt\n",
    "\n",
    "from scipy.optimize import curve_fit"
   ]
  },
  {
   "cell_type": "markdown",
   "metadata": {},
   "source": [
    "* In the Jupyter notebook, the return value of the last command in the cell is automatically printed"
   ]
  },
  {
   "cell_type": "code",
   "execution_count": 57,
   "metadata": {},
   "outputs": [
    {
     "data": {
      "text/plain": [
       "21"
      ]
     },
     "execution_count": 57,
     "metadata": {},
     "output_type": "execute_result"
    }
   ],
   "source": [
    "1 + 2 + 3 + 4 + 5 + 6"
   ]
  },
  {
   "cell_type": "markdown",
   "metadata": {
    "slideshow": {
     "slide_type": "slide"
    }
   },
   "source": [
    "## Pseudorandom numbers\n",
    "\n",
    "To generate __random data to try out our tools__, we will generate __pseudorandom numbers__.\n",
    "\n",
    "* number generated by mathematical formulae with statistical properties close to the ones of random numbers.\n",
    "* a good algorithm should not present a correlation between the generated numbers\n",
    "* generation of pseudorandom numbers is reporducible: you will get the same numbers if you start from the same seed\n",
    "\n",
    "_Example_: the __Linear Congruential Generator__ $x_{n+1} = a x_n + c$ mod $m$."
   ]
  },
  {
   "cell_type": "code",
   "execution_count": 31,
   "metadata": {},
   "outputs": [],
   "source": [
    "def linear_congruential(size, seed=1, a=7**5, c=0, m=2**31):\n",
    "    n = np.prod(size)\n",
    "    x = np.empty(n)\n",
    "    x[0] = seed\n",
    "    for i in range(1,n):\n",
    "        x[i] = (a*x[i-1] + c) % m\n",
    "    return x.reshape(size) / m"
   ]
  },
  {
   "cell_type": "markdown",
   "metadata": {
    "slideshow": {
     "slide_type": "slide"
    }
   },
   "source": [
    "With the wrong choice of $a, c$ and $m$, the __Linear Congruential Generator__ shows an obvious non-random pattern."
   ]
  },
  {
   "cell_type": "code",
   "execution_count": 32,
   "metadata": {
    "slideshow": {
     "slide_type": "-"
    }
   },
   "outputs": [],
   "source": [
    "x1 = linear_congruential((2,500), seed=1, a=7**5, c=0, m=2**31)\n",
    "x2 = linear_congruential((2,500), seed=1, a=13, c=0, m=31)"
   ]
  },
  {
   "cell_type": "code",
   "execution_count": 35,
   "metadata": {
    "slideshow": {
     "slide_type": "skip"
    }
   },
   "outputs": [],
   "source": [
    "def linear_congruential_plot(x1, x2):\n",
    "    f, (ax1, ax2) = plt.subplots(1, 2, figsize=(12,6))\n",
    "    ax1.scatter(x1[0], x1[1], s=2, color='k')\n",
    "    ax2.scatter(x2[0], x2[1], s=2, color='k')\n",
    "    ax1.set_xlim(0,1); ax1.set_ylim(0,1); ax2.set_xlim(0,1); ax2.set_ylim(0,1)\n",
    "    ax1.set_title(r'$a = 7^5$,   $c=0$,   $m=2^{31}$')\n",
    "    ax2.set_title(r'$a = 13$,   $c=0$,   $m=31$')\n",
    "    ax1.set_xlabel(r'$x_1^1$')\n",
    "    ax1.set_ylabel(r'$x_1^2$')\n",
    "    ax2.set_xlabel(r'$x_2^1$')\n",
    "    ax2.set_ylabel(r'$x_2^2$')\n",
    "    plt.show()"
   ]
  },
  {
   "cell_type": "code",
   "execution_count": 36,
   "metadata": {
    "slideshow": {
     "slide_type": "-"
    }
   },
   "outputs": [
    {
     "data": {
      "image/png": "[encoded data removed]",
      "text/plain": [
       "<Figure size 864x432 with 2 Axes>"
      ]
     },
     "metadata": {
      "needs_background": "light"
     },
     "output_type": "display_data"
    }
   ],
   "source": [
    "linear_congruential_plot(x1, x2)"
   ]
  },
  {
   "cell_type": "markdown",
   "metadata": {
    "slideshow": {
     "slide_type": "slide"
    }
   },
   "source": [
    "## Pseudorandom numbers in Python\n",
    "\n",
    "Python and numpy use the [Mersenne Twister](https://en.wikipedia.org/wiki/Mersenne_Twister) algorithm for pseudorandom number generation. We can set the seed for numpy with `np.random.seed()` to get reproducible results and use the [numpy.random](https://docs.scipy.org/doc/numpy/reference/routines.random.html) module to generate arrays of random numbers according to many different probability density functions, for example a __uniform distribution__:"
   ]
  },
  {
   "cell_type": "code",
   "execution_count": 75,
   "metadata": {},
   "outputs": [
    {
     "data": {
      "image/png": "[encoded data removed]",
      "text/plain": [
       "<Figure size 432x288 with 1 Axes>"
      ]
     },
     "metadata": {
      "needs_background": "light"
     },
     "output_type": "display_data"
    }
   ],
   "source": [
    "np.random.seed(42)\n",
    "\n",
    "a = np.random.uniform(size=10000)\n",
    "plt.hist(a, bins=200)\n",
    "plt.show()"
   ]
  },
  {
   "cell_type": "markdown",
   "metadata": {
    "slideshow": {
     "slide_type": "slide"
    }
   },
   "source": [
    "## Histograms\n",
    "\n",
    "A __histogram__ is a representation of the distribution of numerical data. The [numpy.histogram](https://docs.scipy.org/doc/numpy/reference/generated/numpy.histogram.html) function returns you the number of counts in each __bin__, with the bins being defined by the __bin edges__ you pass as a second argument."
   ]
  },
  {
   "cell_type": "code",
   "execution_count": 109,
   "metadata": {},
   "outputs": [
    {
     "data": {
      "text/plain": [
       "(array([0, 0, 0, 0, 0, 0, 0, 0, 1, 0, 1, 2, 0, 1, 0, 3, 1, 0, 1, 0]),\n",
       " array([-6. , -5.4, -4.8, -4.2, -3.6, -3. , -2.4, -1.8, -1.2, -0.6,  0. ,\n",
       "         0.6,  1.2,  1.8,  2.4,  3. ,  3.6,  4.2,  4.8,  5.4,  6. ]))"
      ]
     },
     "execution_count": 109,
     "metadata": {},
     "output_type": "execute_result"
    }
   ],
   "source": [
    "data = [1, 2, 3, 3, 3, 5, 1, 0, -1, 4]\n",
    "bins = np.linspace(-6, 6, 21)\n",
    "\n",
    "np.histogram(data, bins)"
   ]
  },
  {
   "cell_type": "markdown",
   "metadata": {},
   "source": [
    "The `numpy.histogram` function returns you:\n",
    "* the number of counts in each bin\n",
    "* the bin edges (redundant information here since we already specified them)"
   ]
  },
  {
   "cell_type": "markdown",
   "metadata": {
    "slideshow": {
     "slide_type": "slide"
    }
   },
   "source": [
    "You can also fill histograms with random values, here for example according to a __normal distribution__:"
   ]
  },
  {
   "cell_type": "code",
   "execution_count": 110,
   "metadata": {},
   "outputs": [
    {
     "data": {
      "text/plain": [
       "(array([  4,   4,  10,  23,  22,  38,  64, 114, 108, 107, 112, 117,  81,\n",
       "         64,  57,  29,  23,  16,   3,   1]),\n",
       " array([-6. , -5.4, -4.8, -4.2, -3.6, -3. , -2.4, -1.8, -1.2, -0.6,  0. ,\n",
       "         0.6,  1.2,  1.8,  2.4,  3. ,  3.6,  4.2,  4.8,  5.4,  6. ]))"
      ]
     },
     "execution_count": 110,
     "metadata": {},
     "output_type": "execute_result"
    }
   ],
   "source": [
    "a = np.random.normal(loc=0.0, scale=2.0, size=1000)\n",
    "np.histogram(a, bins)"
   ]
  },
  {
   "cell_type": "markdown",
   "metadata": {
    "slideshow": {
     "slide_type": "slide"
    }
   },
   "source": [
    "It's also very convenient to plot histograms directly with the [matplotlib.pyplot.hist](https://matplotlib.org/api/_as_gen/matplotlib.pyplot.hist.html) function, which uses the same interface:"
   ]
  },
  {
   "cell_type": "code",
   "execution_count": 116,
   "metadata": {},
   "outputs": [
    {
     "data": {
      "image/png": "[encoded data removed]",
      "text/plain": [
       "<Figure size 432x288 with 1 Axes>"
      ]
     },
     "metadata": {
      "needs_background": "light"
     },
     "output_type": "display_data"
    }
   ],
   "source": [
    "a = np.random.normal(loc=0.0, scale=2.0, size=1000)\n",
    "\n",
    "plt.hist(a, bins)\n",
    "plt.show()"
   ]
  },
  {
   "cell_type": "markdown",
   "metadata": {
    "slideshow": {
     "slide_type": "slide"
    }
   },
   "source": [
    "However, the  `numpy` function is still very useful in case you want to do something with the counts before plotting, them, for example to calculate the __Poissonian uncertainy__:"
   ]
  },
  {
   "cell_type": "code",
   "execution_count": 117,
   "metadata": {},
   "outputs": [
    {
     "data": {
      "image/png": "[encoded data removed]",
      "text/plain": [
       "<Figure size 432x288 with 1 Axes>"
      ]
     },
     "metadata": {
      "needs_background": "light"
     },
     "output_type": "display_data"
    }
   ],
   "source": [
    "a = np.random.normal(loc=0.0, scale=2.0, size=1000)\n",
    "\n",
    "counts, _ = np.histogram(a, bins)\n",
    "uncert = np.sqrt(counts)\n",
    "bincenters = (bins[1:] + bins[:-1])/2.\n",
    "\n",
    "plt.errorbar(bincenters, counts, yerr=uncert, fmt='o', color='k')\n",
    "plt.show()"
   ]
  },
  {
   "cell_type": "markdown",
   "metadata": {
    "slideshow": {
     "slide_type": "slide"
    }
   },
   "source": [
    "Having the numpy array with the counts and uncertainties also helps you when you want to __fit your data__ (more on fitting later):"
   ]
  },
  {
   "cell_type": "code",
   "execution_count": 118,
   "metadata": {},
   "outputs": [],
   "source": [
    "def gaus(x, mu, sigma, N):\n",
    "    return N * 1./(np.sqrt(2*np.pi)*sigma) * np.exp(-(x - mu)**2/(2*sigma**2))\n",
    "\n",
    "popt, pcov = curve_fit(gaus, bincenters, counts,\n",
    "                       sigma=uncert, p0=[1., 1., 1000.])"
   ]
  },
  {
   "cell_type": "code",
   "execution_count": 119,
   "metadata": {},
   "outputs": [
    {
     "data": {
      "image/png": "[encoded data removed]",
      "text/plain": [
       "<Figure size 432x288 with 1 Axes>"
      ]
     },
     "metadata": {
      "needs_background": "light"
     },
     "output_type": "display_data"
    }
   ],
   "source": [
    "plt.plot(bincenters, gaus(bincenters, *popt), \"r\")\n",
    "plt.errorbar(bincenters, counts, yerr=uncert, fmt='o', color='k')\n",
    "plt.show()"
   ]
  },
  {
   "cell_type": "markdown",
   "metadata": {
    "slideshow": {
     "slide_type": "slide"
    }
   },
   "source": [
    "## Fitting the data"
   ]
  },
  {
   "cell_type": "markdown",
   "metadata": {},
   "source": [
    "Let's create some toy data which is distributed according to $121 /\\sqrt{2x}$, plus some Gaussian noise."
   ]
  },
  {
   "cell_type": "code",
   "execution_count": 147,
   "metadata": {
    "slideshow": {
     "slide_type": "-"
    }
   },
   "outputs": [],
   "source": [
    "def f_true(x):\n",
    "    return 121./np.sqrt(2.*x)"
   ]
  },
  {
   "cell_type": "code",
   "execution_count": 148,
   "metadata": {},
   "outputs": [],
   "source": [
    "def f_noise(x):\n",
    "    return np.random.normal(loc=0.0, scale=5., size=x.shape)"
   ]
  },
  {
   "cell_type": "code",
   "execution_count": 149,
   "metadata": {},
   "outputs": [],
   "source": [
    "def f_measurement(x):\n",
    "    return f_true(x) + f_noise(x)"
   ]
  },
  {
   "cell_type": "code",
   "execution_count": 150,
   "metadata": {},
   "outputs": [],
   "source": [
    "x = np.linspace(1., 10., 20)\n",
    "y = f_measurement(x)\n",
    "yerr = np.sqrt(y)"
   ]
  },
  {
   "cell_type": "code",
   "execution_count": 151,
   "metadata": {
    "slideshow": {
     "slide_type": "skip"
    }
   },
   "outputs": [],
   "source": [
    "def data_and_true_function_plot(x, y, yerr, f_true):\n",
    "    xx = np.linspace(1.,10.,200)\n",
    "    plt.plot(xx, f_true(xx), label=\"true distribution\")\n",
    "    plt.errorbar(x, y, yerr=yerr, fmt='o', color='k', label=\"data\")\n",
    "    plt.legend(loc=\"upper right\")\n",
    "    plt.xlabel(\"Amplitude\")\n",
    "    plt.ylabel(\"Counts\")\n",
    "    plt.show()"
   ]
  },
  {
   "cell_type": "code",
   "execution_count": 152,
   "metadata": {
    "slideshow": {
     "slide_type": "skip"
    }
   },
   "outputs": [],
   "source": [
    "def data_plot(x, y, yerr):\n",
    "    plt.errorbar(x, y, yerr=yerr, fmt='o', color='k', label=\"data\")\n",
    "    plt.legend(loc=\"upper right\")\n",
    "    plt.xlabel(\"Amplitude\")\n",
    "    plt.ylabel(\"Counts\")\n",
    "    plt.show()"
   ]
  },
  {
   "cell_type": "markdown",
   "metadata": {
    "slideshow": {
     "slide_type": "slide"
    }
   },
   "source": [
    "This is a visualization of our \"measured\" data and the underlying function:"
   ]
  },
  {
   "cell_type": "code",
   "execution_count": 153,
   "metadata": {},
   "outputs": [
    {
     "data": {
      "image/png": "[encoded data removed]",
      "text/plain": [
       "<Figure size 432x288 with 1 Axes>"
      ]
     },
     "metadata": {
      "needs_background": "light"
     },
     "output_type": "display_data"
    }
   ],
   "source": [
    "data_and_true_function_plot(x, y, yerr, f_true)"
   ]
  },
  {
   "cell_type": "markdown",
   "metadata": {
    "slideshow": {
     "slide_type": "slide"
    }
   },
   "source": [
    "In a real experiment, you find youself rather in the following situation:"
   ]
  },
  {
   "cell_type": "code",
   "execution_count": 154,
   "metadata": {
    "slideshow": {
     "slide_type": "-"
    }
   },
   "outputs": [
    {
     "data": {
      "image/png": "[encoded data removed]",
      "text/plain": [
       "<Figure size 432x288 with 1 Axes>"
      ]
     },
     "metadata": {
      "needs_background": "light"
     },
     "output_type": "display_data"
    }
   ],
   "source": [
    "data_plot(x, y, yerr)"
   ]
  },
  {
   "cell_type": "markdown",
   "metadata": {},
   "source": [
    "The you don't know the underlying function! But you want to fit it in order to estimate the parameters $a$ and $b$ in the model $a/\\sqrt{bx}$.\n",
    "\n",
    "How is this done?"
   ]
  }
 ],
 "metadata": {
  "celltoolbar": "Slideshow",
  "kernelspec": {
   "display_name": "Python 3",
   "language": "python",
   "name": "python3"
  },
  "language_info": {
   "codemirror_mode": {
    "name": "ipython",
    "version": 3
   },
   "file_extension": ".py",
   "mimetype": "text/x-python",
   "name": "python",
   "nbconvert_exporter": "python",
   "pygments_lexer": "ipython3",
   "version": "3.7.3"
  }
 },
 "nbformat": 4,
 "nbformat_minor": 2
}
